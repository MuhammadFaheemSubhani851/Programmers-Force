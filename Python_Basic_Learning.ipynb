{
  "nbformat": 4,
  "nbformat_minor": 0,
  "metadata": {
    "colab": {
      "provenance": []
    },
    "kernelspec": {
      "name": "python3",
      "display_name": "Python 3"
    },
    "language_info": {
      "name": "python"
    }
  },
  "cells": [
    {
      "cell_type": "markdown",
      "source": [
        "**Diagnol Swaping code**"
      ],
      "metadata": {
        "id": "xnM9hMMgOH6g"
      }
    },
    {
      "cell_type": "code",
      "source": [
        "def swap_diagonals(matrix):\n",
        "\n",
        "    num_rows = len(matrix)\n",
        "    num_cols = len(matrix[0]) if num_rows > 0 else 0\n",
        "\n",
        "    # Swap the diagonals\n",
        "    for i in range(num_rows):\n",
        "        matrix[i][i], matrix[i][num_cols - 1 - i] = matrix[i][num_cols - 1 - i], matrix[i][i]\n",
        "\n",
        "    return matrix\n",
        "# Example 2D array (matrix)\n",
        "matrix_1 = [\n",
        "    [1, 2, 3],\n",
        "    [4, 5, 6],\n",
        "    [7, 8, 9]\n",
        "]\n",
        "\n",
        "# Swap both diagonals of the matrix\n",
        "swapped_matrix = swap_diagonals(matrix_1)\n",
        "\n",
        "\n",
        "# Print the matrix with both diagonals swapped\n",
        "print(\"\\nMatrix with Both Diagonals Swapped:\")\n",
        "for row in swapped_matrix:\n",
        "    print(row)"
      ],
      "metadata": {
        "colab": {
          "base_uri": "https://localhost:8080/"
        },
        "id": "5s1PCYT8OCWQ",
        "outputId": "9c02d3d7-da91-4c4e-f200-4b627d52d072"
      },
      "execution_count": null,
      "outputs": [
        {
          "output_type": "stream",
          "name": "stdout",
          "text": [
            "\n",
            "Matrix with Both Diagonals Swapped:\n",
            "[3, 2, 1]\n",
            "[4, 5, 6]\n",
            "[9, 8, 7]\n"
          ]
        }
      ]
    },
    {
      "cell_type": "code",
      "execution_count": null,
      "metadata": {
        "colab": {
          "base_uri": "https://localhost:8080/"
        },
        "id": "MeqLM1DVLZya",
        "outputId": "f2c1ca5f-684f-4760-d330-0f84752ba310"
      },
      "outputs": [
        {
          "output_type": "stream",
          "name": "stdout",
          "text": [
            "30\n"
          ]
        }
      ],
      "source": [
        "num1 = 15\n",
        "num2 = 15\n",
        "\n",
        "print(num1 + num2)"
      ]
    },
    {
      "cell_type": "code",
      "source": [
        "def greater_number(a,b):\n",
        "\n",
        "  if a <= b:\n",
        "     print(a)\n",
        "  else:\n",
        "     print(b)\n",
        "\n",
        "a = 2\n",
        "b = 4\n",
        "\n",
        "greater_number(a,b)"
      ],
      "metadata": {
        "colab": {
          "base_uri": "https://localhost:8080/"
        },
        "id": "vS63ekLLMRZi",
        "outputId": "ceba0f3f-eec3-4045-d956-d1654c734b4d"
      },
      "execution_count": null,
      "outputs": [
        {
          "output_type": "stream",
          "name": "stdout",
          "text": [
            "2\n"
          ]
        }
      ]
    },
    {
      "cell_type": "code",
      "source": [
        "def factorial(n):\n",
        "\n",
        "\n",
        "    if (n==1 or n==0):\n",
        "      return 1\n",
        "    else:\n",
        "      fact = 1\n",
        "      while(n > 1):\n",
        "          fact *= n\n",
        "          n -= 1\n",
        "      return fact\n",
        "\n",
        "\n",
        "num = 10\n",
        "print(\"Factorial of\",num,\"is\",factorial(num))"
      ],
      "metadata": {
        "colab": {
          "base_uri": "https://localhost:8080/"
        },
        "id": "GX2q16mtNh-H",
        "outputId": "49168f28-1f05-43a9-ae22-1dc3b36e3897"
      },
      "execution_count": null,
      "outputs": [
        {
          "output_type": "stream",
          "name": "stdout",
          "text": [
            "Factorial of 5 is 120\n"
          ]
        }
      ]
    },
    {
      "cell_type": "code",
      "source": [
        "def simple_interest(num1,num2,num3):\n",
        "\n",
        "  print('after taking input from the user')\n",
        "\n",
        "  interest = (num1 * num2 * num3 )/ 100\n",
        "  print ('The interest is:', interest)\n",
        "\n",
        "num1 = int(input(\"enter the principal: \"))\n",
        "num2 = int(input(\"enter time period : \"))\n",
        "num3 = int(input(\"enter rate of interest: \"))\n",
        "\n",
        "simple_interest(num1,num2,num3)"
      ],
      "metadata": {
        "colab": {
          "base_uri": "https://localhost:8080/"
        },
        "id": "1SYo_isyPMIR",
        "outputId": "2be1f052-6c9d-4ec8-af7a-bfbe91b84344"
      },
      "execution_count": null,
      "outputs": [
        {
          "output_type": "stream",
          "name": "stdout",
          "text": [
            "enter the principal: 5\n",
            "enter time period : 6\n",
            "enter rate of interest: 7\n",
            "after taking input from the user\n",
            "The interest is: 2.1\n"
          ]
        }
      ]
    },
    {
      "cell_type": "code",
      "source": [
        "def compound_interest(num1,num2,num3):\n",
        "\n",
        "    # Calculates compound interest\n",
        "    Amount = num1 * (pow((1 + num2 / 100), num3))\n",
        "    CI = Amount - num1\n",
        "    print(\"Compound interest is\", CI)\n",
        "\n",
        "\n",
        "num1 = int(input(\"enter the principal: \"))\n",
        "num2 = int(input(\"enter time period : \"))\n",
        "num3 = int(input(\"enter rate of interest: \"))\n",
        "compound_interest(num1,num2,num3)"
      ],
      "metadata": {
        "colab": {
          "base_uri": "https://localhost:8080/"
        },
        "id": "sYsDwa7JSIRj",
        "outputId": "62adc00d-e756-4e26-acdb-37e28aa5841a"
      },
      "execution_count": null,
      "outputs": [
        {
          "output_type": "stream",
          "name": "stdout",
          "text": [
            "enter the principal: 12\n",
            "enter time period : 23\n",
            "enter rate of interest: 23\n",
            "Compound interest is 1390.809858017319\n"
          ]
        }
      ]
    },
    {
      "cell_type": "code",
      "source": [
        "n = 200\n",
        "s = n\n",
        "b = len(str(n))\n",
        "sum1 = 0\n",
        "while n != 0:\n",
        "    r = n % 10\n",
        "    sum1 = sum1+(r**b)\n",
        "    n = n//10\n",
        "if s == sum1:\n",
        "    print(\"The given number\", s, \"is armstrong number\")\n",
        "else:\n",
        "    print(\"The given number\", s, \"is not armstrong number\")"
      ],
      "metadata": {
        "colab": {
          "base_uri": "https://localhost:8080/"
        },
        "id": "055SQG-kSk0j",
        "outputId": "26947cbe-86ff-4946-ef39-8e7304ae6ed7"
      },
      "execution_count": null,
      "outputs": [
        {
          "output_type": "stream",
          "name": "stdout",
          "text": [
            "The given number 200 is not armstrong number\n"
          ]
        }
      ]
    },
    {
      "cell_type": "code",
      "source": [
        "def area(r):\n",
        "  pi = 3.14\n",
        "  return pi * r **2\n",
        "\n",
        "print('Area of circle is: ')\n",
        "area(5)"
      ],
      "metadata": {
        "colab": {
          "base_uri": "https://localhost:8080/"
        },
        "id": "V9jicsiPPpnX",
        "outputId": "9bee7f05-52e2-4b72-e148-fa953230dc94"
      },
      "execution_count": null,
      "outputs": [
        {
          "output_type": "stream",
          "name": "stdout",
          "text": [
            "Area of circle is: \n"
          ]
        },
        {
          "output_type": "execute_result",
          "data": {
            "text/plain": [
              "78.5"
            ]
          },
          "metadata": {},
          "execution_count": 31
        }
      ]
    },
    {
      "cell_type": "code",
      "source": [
        "def prime(a,b):\n",
        "  prime_list=[]\n",
        "  for i in range (a,b):\n",
        "    if i == 0 or i == 1:\n",
        "      continue\n",
        "    else:\n",
        "      for j in range(2, int(i/2)+1):\n",
        "                if i % j == 0:\n",
        "                    break\n",
        "      else:\n",
        "            prime_list.append(i)\n",
        "    return prime_list\n",
        "\n",
        "\n",
        "\n",
        "starting_range = 2\n",
        "ending_range = 15\n",
        "lst = prime(starting_range, ending_range)\n",
        "if len(lst) == 0:\n",
        "    print(\"There are no prime numbers in this range\")\n",
        "else:\n",
        "    print(\"The prime numbers in this range are: \", lst)"
      ],
      "metadata": {
        "colab": {
          "base_uri": "https://localhost:8080/"
        },
        "id": "15ynq0l9U7Sy",
        "outputId": "483b148c-3226-45a4-b1a4-425b233ea7d2"
      },
      "execution_count": null,
      "outputs": [
        {
          "output_type": "stream",
          "name": "stdout",
          "text": [
            "The prime numbers in this range are:  [2]\n"
          ]
        }
      ]
    },
    {
      "cell_type": "code",
      "source": [
        "c = 'B'\n",
        "print(\"The ASCII value of '\" + c + \"' is\", ord(c))"
      ],
      "metadata": {
        "colab": {
          "base_uri": "https://localhost:8080/"
        },
        "id": "qK46DnK2XP-B",
        "outputId": "0983bf1f-dac3-4743-e0e6-bac61461eb6d"
      },
      "execution_count": null,
      "outputs": [
        {
          "output_type": "stream",
          "name": "stdout",
          "text": [
            "The ASCII value of 'B' is 66\n"
          ]
        }
      ]
    },
    {
      "cell_type": "markdown",
      "source": [
        "**Array Programs**"
      ],
      "metadata": {
        "id": "dyMCTkmvX0GY"
      }
    },
    {
      "cell_type": "code",
      "source": [
        "from array import array\n",
        "array = [1,2,3,4,5,6,7,8,9,10]\n",
        "ans = sum(array)\n",
        "print('The sum of Array is: ',ans)"
      ],
      "metadata": {
        "colab": {
          "base_uri": "https://localhost:8080/"
        },
        "id": "CVRHhnYUXwk6",
        "outputId": "b25cf520-29c9-4854-a908-7388a45e7ea4"
      },
      "execution_count": null,
      "outputs": [
        {
          "output_type": "stream",
          "name": "stdout",
          "text": [
            "The sum of Array is:  55\n"
          ]
        }
      ]
    },
    {
      "cell_type": "code",
      "source": [
        "def largest_number(arr,n):\n",
        "  ans = max(arr)\n",
        "  return ans\n",
        "\n",
        "arr = [1,2,3,4,5,6,45,65,2]\n",
        "n = len(arr)\n",
        "print('The largest number in an array is: ', largest_number(arr, n))"
      ],
      "metadata": {
        "colab": {
          "base_uri": "https://localhost:8080/"
        },
        "id": "OYhIv5QGYcQO",
        "outputId": "100262fa-f473-4949-b2a2-bf5facbe1bec"
      },
      "execution_count": null,
      "outputs": [
        {
          "output_type": "stream",
          "name": "stdout",
          "text": [
            "The largest number in an array is:  65\n"
          ]
        }
      ]
    },
    {
      "cell_type": "code",
      "source": [
        "def rotationOfArray(arr, n, x):\n",
        "  temp = []\n",
        "  i = 0\n",
        "  while (i < d):\n",
        "        temp.append(arr[i])\n",
        "        i = i + 1\n",
        "  i = 0\n",
        "  while (d < n):\n",
        "    arr[i] = arr[d]\n",
        "    i = i + 1\n",
        "    d = d + 1\n",
        "  arr[:] = arr[: i] + temp\n",
        "  return arr\n",
        "\n",
        "\n",
        "arr = [1,2,3,4,5,6,7]\n",
        "print(\"Array after left rotation is: \", end=' ')\n",
        "print(rotationOfArray(arr, len(arr), 2))"
      ],
      "metadata": {
        "colab": {
          "base_uri": "https://localhost:8080/"
        },
        "id": "PDaD5P1YZGe7",
        "outputId": "97b73fb8-1992-4f79-9c88-41142d41a8ef"
      },
      "execution_count": null,
      "outputs": [
        {
          "output_type": "stream",
          "name": "stdout",
          "text": [
            "Array after left rotation is:  [3, 4, 5, 6, 7, 1, 2]\n"
          ]
        }
      ]
    },
    {
      "cell_type": "code",
      "source": [
        "def split_array(a,l,k):\n",
        "    b = a[:k]\n",
        "    return (a[k::]+b[::])\n",
        "\n",
        "\n",
        "\n",
        "arr = [1,2,3,4,5,6,7,8,9]\n",
        "l = len(arr)\n",
        "position = 2\n",
        "newarray = split_array(arr,l,position)\n",
        "for i in range (0,l):\n",
        "  print(arr[i], end=' ')\n"
      ],
      "metadata": {
        "colab": {
          "base_uri": "https://localhost:8080/"
        },
        "id": "FbGqRWKCd2Ol",
        "outputId": "2823768c-460f-4ed4-8b54-78674b31767b"
      },
      "execution_count": null,
      "outputs": [
        {
          "output_type": "stream",
          "name": "stdout",
          "text": [
            "1 2 3 4 5 6 7 8 9 "
          ]
        }
      ]
    },
    {
      "cell_type": "code",
      "source": [
        "newarray"
      ],
      "metadata": {
        "colab": {
          "base_uri": "https://localhost:8080/"
        },
        "id": "kmKzwJ0Dik7Z",
        "outputId": "e7392fa7-1475-46b0-c1d8-46200b34c023"
      },
      "execution_count": null,
      "outputs": [
        {
          "output_type": "execute_result",
          "data": {
            "text/plain": [
              "[3, 4, 5, 6, 7, 8, 9, 1, 2]"
            ]
          },
          "metadata": {},
          "execution_count": 54
        }
      ]
    },
    {
      "cell_type": "code",
      "source": [
        "from functools import reduce\n",
        "\n",
        "def reminder_of_array(arr,n):\n",
        "  sum = reduce(lambda x, y : x * y, arr)\n",
        "  reminder = sum%n\n",
        "  print(reminder)\n",
        "\n",
        "arr = [99,110,120,130,140,150]\n",
        "n = 77\n",
        "reminder_of_array(arr,n)"
      ],
      "metadata": {
        "colab": {
          "base_uri": "https://localhost:8080/"
        },
        "id": "AHA35te0il-a",
        "outputId": "7285f5f1-19ed-452c-8a8b-6a55479adc8e"
      },
      "execution_count": null,
      "outputs": [
        {
          "output_type": "stream",
          "name": "stdout",
          "text": [
            "0\n"
          ]
        }
      ]
    },
    {
      "cell_type": "markdown",
      "source": [
        "**List**"
      ],
      "metadata": {
        "id": "mtzgt_6YEljf"
      }
    },
    {
      "cell_type": "code",
      "source": [
        "#swap 1st and last element\n",
        "def swaplist(list):\n",
        "  size = len(list)\n",
        "  #swapping\n",
        "  temp = list[0]\n",
        "  list[0]=list[size-1]\n",
        "  list[size-1] = temp\n",
        "  return list\n",
        "\n",
        "\n",
        "list = [1,2,3,4,5]\n",
        "print(swaplist(list))\n"
      ],
      "metadata": {
        "colab": {
          "base_uri": "https://localhost:8080/"
        },
        "id": "m9dpV1LSEBM0",
        "outputId": "433c4347-afb6-41b5-875f-d05aab2b6298"
      },
      "execution_count": null,
      "outputs": [
        {
          "output_type": "stream",
          "name": "stdout",
          "text": [
            "[5, 2, 3, 4, 1]\n"
          ]
        }
      ]
    },
    {
      "cell_type": "code",
      "source": [
        "#swap 1 and 2nd element\n",
        "def swaplist(list):\n",
        "  size = len(list)\n",
        "  #swapping\n",
        "  temp = list[0]\n",
        "  list[0]=list[1]\n",
        "  list[1] = temp\n",
        "  return list\n",
        "\n",
        "\n",
        "list = [1,2,3,4,5]\n",
        "print(swaplist(list))\n"
      ],
      "metadata": {
        "colab": {
          "base_uri": "https://localhost:8080/"
        },
        "id": "UEwBruSpGrAt",
        "outputId": "5b556580-0aae-484d-c16c-25dab7e7af02"
      },
      "execution_count": null,
      "outputs": [
        {
          "output_type": "stream",
          "name": "stdout",
          "text": [
            "[2, 1, 3, 4, 5]\n"
          ]
        }
      ]
    },
    {
      "cell_type": "code",
      "source": [
        "#given element is in list or not\n",
        "\n",
        "list = [1,2,3,4,5,6,7,8,9]\n",
        "n = int(input('Enter the number to check is in list or not: '))\n",
        "if n in list:\n",
        "  print('exist')\n",
        "else:\n",
        "  print('not exsist')"
      ],
      "metadata": {
        "colab": {
          "base_uri": "https://localhost:8080/"
        },
        "id": "tZFYMfOdHqtd",
        "outputId": "0cf1aa6b-57b7-4819-dad6-d6c9880061b9"
      },
      "execution_count": null,
      "outputs": [
        {
          "output_type": "stream",
          "name": "stdout",
          "text": [
            "Enter the number to check is in list or not: 5\n",
            "exist\n"
          ]
        }
      ]
    },
    {
      "cell_type": "code",
      "source": [
        "#reverse the list\n",
        "\n",
        "def reverse(list):\n",
        "   new_list = list[::-1]\n",
        "   return new_list\n",
        "\n",
        "list = [4,5,6,7,8,9]\n",
        "print(reverse(list))\n"
      ],
      "metadata": {
        "colab": {
          "base_uri": "https://localhost:8080/"
        },
        "id": "xncctyqQJXmB",
        "outputId": "50581eec-9966-43a5-ccf5-fa00248276d6"
      },
      "execution_count": null,
      "outputs": [
        {
          "output_type": "stream",
          "name": "stdout",
          "text": [
            "[9, 8, 7, 6, 5, 4]\n"
          ]
        }
      ]
    },
    {
      "cell_type": "code",
      "source": [
        "def multiply_list(list):\n",
        "  result = 1\n",
        "  for x in list:\n",
        "      result = result * x\n",
        "  return result\n",
        "\n",
        "\n",
        "input_string = input(\"Enter elements of the list separated by spaces: \")\n",
        "\n",
        "# Convert the input string to a list\n",
        "list = input_string.split()\n",
        "\n",
        "# Convert the elements of the list to integers (optional) #yah is liyay kiya hai taky string list ko int may convert krsky\n",
        "list = [int(element) for element in list]\n",
        "\n",
        "print(\"list after multiplication is:\", multiply_list(list))"
      ],
      "metadata": {
        "colab": {
          "base_uri": "https://localhost:8080/"
        },
        "id": "eBMJrw5ELY-2",
        "outputId": "d518b175-06c6-49c8-cf78-db2643a6f22d"
      },
      "execution_count": null,
      "outputs": [
        {
          "output_type": "stream",
          "name": "stdout",
          "text": [
            "Enter elements of the list separated by spaces: 1 2 3 4 5\n",
            "list after multiplication is: 120\n"
          ]
        }
      ]
    },
    {
      "cell_type": "code",
      "source": [
        "#smallest number in list\n",
        "\n",
        "list = [23,43,23,45,12,23,12]\n",
        "list.sort()\n",
        "print('smallest number in list is: ', min(list))"
      ],
      "metadata": {
        "colab": {
          "base_uri": "https://localhost:8080/"
        },
        "id": "QjQ6MI4KjTa-",
        "outputId": "43472b46-76d0-439f-a131-7f7fca1927d6"
      },
      "execution_count": null,
      "outputs": [
        {
          "output_type": "stream",
          "name": "stdout",
          "text": [
            "smallest number in list is:  12\n"
          ]
        }
      ]
    },
    {
      "cell_type": "code",
      "source": [
        "#2nd largest number in list\n",
        "\n",
        "list = [12,23,32,21,18]\n",
        "list.sort()\n",
        "print('smallest number in list is: ', list[1])"
      ],
      "metadata": {
        "colab": {
          "base_uri": "https://localhost:8080/"
        },
        "id": "-_tUvg6mkWAB",
        "outputId": "234af9aa-97cb-4e5b-8781-b84c0bda9496"
      },
      "execution_count": null,
      "outputs": [
        {
          "output_type": "stream",
          "name": "stdout",
          "text": [
            "smallest number in list is:  18\n"
          ]
        }
      ]
    },
    {
      "cell_type": "code",
      "source": [
        "import heapq\n",
        "\n",
        "def n_largest(list, n):\n",
        "    return heapq.nlargest(n, list)\n",
        "\n",
        "# Input of list\n",
        "input_string = input('Enter the List: ')\n",
        "list = [int(element) for element in input_string.split()]\n",
        "\n",
        "# Input of number want to print\n",
        "n = int(input('Enter the number: '))\n",
        "\n",
        "# Print the N largest numbers\n",
        "print('The N largest Numbers are:', n_largest(list, n))"
      ],
      "metadata": {
        "colab": {
          "base_uri": "https://localhost:8080/"
        },
        "id": "t6oxGiFTkyvS",
        "outputId": "eae0fdb9-8324-4f6a-bb01-9f62ec952f34"
      },
      "execution_count": null,
      "outputs": [
        {
          "output_type": "stream",
          "name": "stdout",
          "text": [
            "Enter the List: 1 2 3 43 23 45 43 23 \n",
            "Enter the number: 3\n",
            "The N largest Numbers are: [45, 43, 43]\n"
          ]
        }
      ]
    },
    {
      "cell_type": "markdown",
      "source": [
        "**Matrix Program**"
      ],
      "metadata": {
        "id": "OcEZVmumr38l"
      }
    },
    {
      "cell_type": "code",
      "source": [
        "#program to take matrix from user\n",
        "\n",
        "matrix_X = [[0,0,0],[0,0,0],[0,0,0]]\n",
        "for i in range(3):\n",
        "\n",
        "  for j in range(3):\n",
        "    matrix_X[i][j] = int(input('Enter The matrix element ({i},{j}): '))\n",
        "\n",
        "print('Matrix you entered: ')\n",
        "for r in matrix_X:\n",
        "  print(r)"
      ],
      "metadata": {
        "id": "NBrdf3xnw6yf",
        "colab": {
          "base_uri": "https://localhost:8080/"
        },
        "outputId": "3f710dce-f2ba-4931-8259-10b197855e63"
      },
      "execution_count": null,
      "outputs": [
        {
          "output_type": "stream",
          "name": "stdout",
          "text": [
            "Enter The matrix element ({i},{j}): 1\n",
            "Enter The matrix element ({i},{j}): 3\n",
            "Enter The matrix element ({i},{j}): 2\n",
            "Enter The matrix element ({i},{j}): 3\n",
            "Enter The matrix element ({i},{j}): 4\n",
            "Enter The matrix element ({i},{j}): 5\n",
            "Enter The matrix element ({i},{j}): 3\n",
            "Enter The matrix element ({i},{j}): 4\n",
            "Enter The matrix element ({i},{j}): 5\n",
            "Matrix you entered: \n",
            "[1, 3, 2]\n",
            "[3, 4, 5]\n",
            "[3, 4, 5]\n"
          ]
        }
      ]
    },
    {
      "cell_type": "code",
      "source": [
        "#addition of 2 matrix\n",
        "x = [[1, 2, 3],\n",
        "     [4, 5, 6],\n",
        "     [7, 8, 9]]\n",
        "\n",
        "y = [[3, 2, 1],\n",
        "     [6, 5, 4],\n",
        "     [9, 8, 7]]\n",
        "\n",
        "matrix = [[0, 0, 0],\n",
        "          [0, 0, 0],\n",
        "          [0, 0, 0]]\n",
        "\n",
        "for i in range(len(x)):\n",
        "    for j in range(len(x[0])):\n",
        "        matrix[i][j] = x[i][j] + y[i][j]\n",
        "\n",
        "for r in matrix:\n",
        "    print(r)"
      ],
      "metadata": {
        "colab": {
          "base_uri": "https://localhost:8080/"
        },
        "id": "bLht_R1B0bhC",
        "outputId": "b8cd85f2-6fec-4377-8fd8-1866b4450814"
      },
      "execution_count": null,
      "outputs": [
        {
          "output_type": "stream",
          "name": "stdout",
          "text": [
            "[4, 4, 4]\n",
            "[10, 10, 10]\n",
            "[16, 16, 16]\n"
          ]
        }
      ]
    },
    {
      "cell_type": "code",
      "source": [
        "# multiplication of 2 matrix\n",
        "\n",
        "#addition of 2 matrix\n",
        "x = [[1, 2, 3],\n",
        "     [4, 5, 6],\n",
        "     [7, 8, 9]]\n",
        "\n",
        "y = [[3, 2, 1],\n",
        "     [6, 5, 4],\n",
        "     [9, 8, 7]]\n",
        "\n",
        "matrix = [[0, 0, 0],\n",
        "          [0, 0, 0],\n",
        "          [0, 0, 0]]\n",
        "\n",
        "for i in range(len(x)):\n",
        "    for j in range(len(x[0])):\n",
        "        matrix[i][j] = x[i][j] * y[i][j]\n",
        "\n",
        "for r in matrix:\n",
        "    print(r)"
      ],
      "metadata": {
        "colab": {
          "base_uri": "https://localhost:8080/"
        },
        "id": "V2qUEWYg2TnM",
        "outputId": "23adfda3-ee33-45ad-b5a7-b171c9c36c90"
      },
      "execution_count": null,
      "outputs": [
        {
          "output_type": "stream",
          "name": "stdout",
          "text": [
            "[3, 4, 3]\n",
            "[24, 25, 24]\n",
            "[63, 64, 63]\n"
          ]
        }
      ]
    },
    {
      "cell_type": "code",
      "source": [
        "#matrix product\n",
        "\n",
        "\n",
        "matrix = [[1,2,3],\n",
        "          [4,5,6],\n",
        "           [7,8,9]]\n",
        "\n",
        "print(\"The original matrix is : \" + str(matrix))\n",
        "\n",
        "product = []\n",
        "for i in matrix:\n",
        "  product.extend(i)\n",
        "  res = 1\n",
        "  for j in product:\n",
        "    res*=j\n",
        "\n",
        "print('product of matrix is: ' +str(res))\n",
        "\n",
        "\n"
      ],
      "metadata": {
        "colab": {
          "base_uri": "https://localhost:8080/"
        },
        "id": "CrSigtjZgjnN",
        "outputId": "e4e6ef91-d47a-46c8-9101-2265bbab3846"
      },
      "execution_count": null,
      "outputs": [
        {
          "output_type": "stream",
          "name": "stdout",
          "text": [
            "The original matrix is : [[1, 2, 3], [4, 5, 6], [7, 8, 9]]\n",
            "product of matrix is: 362880\n"
          ]
        }
      ]
    },
    {
      "cell_type": "code",
      "source": [
        "#transpose of matrix\n",
        "def transpose_of_matrix(matrix):\n",
        "  t_matrix = zip(*matrix)\n",
        "  for row in t_matrix:\n",
        "    print(row)\n",
        "\n",
        "\n",
        "matrix = [[1,2,3],[4,5,6],[7,8,9]]\n",
        "for row in matrix:\n",
        "    print(row)\n",
        "print(\"\\n\")\n",
        "\n",
        "transpose_of_matrix(matrix)\n",
        "\n"
      ],
      "metadata": {
        "colab": {
          "base_uri": "https://localhost:8080/"
        },
        "id": "cBhb5IvDiMyU",
        "outputId": "0876fbf6-2b09-4e65-e52c-1be700a70e43"
      },
      "execution_count": null,
      "outputs": [
        {
          "output_type": "stream",
          "name": "stdout",
          "text": [
            "[1, 2, 3]\n",
            "[4, 5, 6]\n",
            "[7, 8, 9]\n",
            "\n",
            "\n",
            "(1, 4, 7)\n",
            "(2, 5, 8)\n",
            "(3, 6, 9)\n"
          ]
        }
      ]
    },
    {
      "cell_type": "code",
      "source": [
        "# matrix creation of n*n\n",
        "\n",
        "n = int(input('Enter the N: '))\n",
        "\n",
        "print('The dimension is: '+str(n))\n",
        "\n",
        "# matrix creation of n * n\n",
        "res = [list(range(1 + n * i, 1 + n * (i + 1)))\n",
        "                            for i in range(n)]\n",
        "\n",
        "# print result\n",
        "print(\"The created matrix of N * N: \" + str(res))"
      ],
      "metadata": {
        "colab": {
          "base_uri": "https://localhost:8080/"
        },
        "id": "gRljptYZjQkD",
        "outputId": "cd8ef623-e617-4055-eee5-944e32347eee"
      },
      "execution_count": null,
      "outputs": [
        {
          "output_type": "stream",
          "name": "stdout",
          "text": [
            "Enter the N: 6\n",
            "The dimension is: 6\n",
            "The created matrix of N * N: [[1, 2, 3, 4, 5, 6], [7, 8, 9, 10, 11, 12], [13, 14, 15, 16, 17, 18], [19, 20, 21, 22, 23, 24], [25, 26, 27, 28, 29, 30], [31, 32, 33, 34, 35, 36]]\n"
          ]
        }
      ]
    },
    {
      "cell_type": "markdown",
      "source": [
        "**String Programs**"
      ],
      "metadata": {
        "id": "3qAXi610lG3b"
      }
    },
    {
      "cell_type": "code",
      "source": [
        "#string is plaindrom or not\n",
        "def palindrom(string):\n",
        "  return string == string[::-1]\n",
        "\n",
        "string = input('Enter the string you want to check: ')\n",
        "\n",
        "result = palindrom(string)\n",
        "\n",
        "if result:\n",
        "  print('yes')\n",
        "else:\n",
        "  print('no')"
      ],
      "metadata": {
        "colab": {
          "base_uri": "https://localhost:8080/"
        },
        "id": "ibStxgsBlJIe",
        "outputId": "f7605ea7-a289-457a-c651-86fd0e77d6b2"
      },
      "execution_count": null,
      "outputs": [
        {
          "output_type": "stream",
          "name": "stdout",
          "text": [
            "Enter the string you want to check: palap\n",
            "yes\n"
          ]
        }
      ]
    },
    {
      "cell_type": "code",
      "source": [
        "#reverse of string\n",
        "\n",
        "string = input('Enter the String: ')\n",
        "\n",
        "# reversing words in a given string\n",
        "s = string.split()[::-1]\n",
        "l = []\n",
        "for i in s:\n",
        "    # appending reversed words to l\n",
        "    l.append(i)\n",
        "\n",
        "print(\" \".join(l))"
      ],
      "metadata": {
        "colab": {
          "base_uri": "https://localhost:8080/"
        },
        "id": "fm23-OQBncTj",
        "outputId": "3ffbb09f-c996-4ec4-b514-7ab897482b08"
      },
      "execution_count": null,
      "outputs": [
        {
          "output_type": "stream",
          "name": "stdout",
          "text": [
            "Enter the String: programmers force is the best software house \n",
            "house software best the is force programmers\n"
          ]
        }
      ]
    },
    {
      "cell_type": "code",
      "source": [
        "#convert snake text to pascal text\n",
        "\n",
        "string = input('Enter the String: ')\n",
        "\n",
        "res = string.replace(\"_\", \" \").title().replace(\" \", \"\")\n",
        "\n",
        "# printing result\n",
        "print(\"The String after changing case : \" + str(res))\n"
      ],
      "metadata": {
        "colab": {
          "base_uri": "https://localhost:8080/"
        },
        "id": "QzoMYQRSosWh",
        "outputId": "3ab2fb45-4202-4a96-bb6a-b42b3d148cd6"
      },
      "execution_count": null,
      "outputs": [
        {
          "output_type": "stream",
          "name": "stdout",
          "text": [
            "Enter the String: programmers_force\n",
            "The String after changing case : ProgrammersForce\n"
          ]
        }
      ]
    },
    {
      "cell_type": "code",
      "source": [
        "#print even length string\n",
        "\n",
        "string = input('Enter the string: ')\n",
        "\n",
        "s = string.split(\" \")\n",
        "for i in s:\n",
        "  if len(i)%2 == 0:\n",
        "    print(i)"
      ],
      "metadata": {
        "colab": {
          "base_uri": "https://localhost:8080/"
        },
        "id": "3NcBnwt1qjB-",
        "outputId": "e4e065c2-ab1a-4cb3-b336-8f409bac841e"
      },
      "execution_count": null,
      "outputs": [
        {
          "output_type": "stream",
          "name": "stdout",
          "text": [
            "Enter the string: this a book\n",
            "this\n",
            "book\n"
          ]
        }
      ]
    },
    {
      "cell_type": "code",
      "source": [
        "#find all duplicate charachters is string\n",
        "\n",
        "def duplicate_characters(string):\n",
        "    # Create an empty dictionary\n",
        "    chars = {}\n",
        "\n",
        "    # Iterate through each character in the string\n",
        "    for char in string:\n",
        "        # If the character is not in the dictionary, add it\n",
        "        if char not in chars:\n",
        "            chars[char] = 1\n",
        "        else:\n",
        "            # If the character is already in the dictionary, increment the count\n",
        "            chars[char] += 1\n",
        "\n",
        "    # Create a list to store the duplicate characters\n",
        "    duplicates = []\n",
        "\n",
        "    # Iterate through the dictionary to find characters with count greater than 1\n",
        "    for char, count in chars.items():\n",
        "        if count > 1:\n",
        "            duplicates.append(char)\n",
        "\n",
        "    return duplicates\n",
        "\n",
        "\n",
        "string = input('Enter the String: ')\n",
        "\n",
        "print(duplicate_characters(string))"
      ],
      "metadata": {
        "colab": {
          "base_uri": "https://localhost:8080/"
        },
        "id": "L2eEUTqztvGV",
        "outputId": "84be4b39-2546-4edd-e84d-aca319520c4c"
      },
      "execution_count": null,
      "outputs": [
        {
          "output_type": "stream",
          "name": "stdout",
          "text": [
            "Enter the String: Life is Cool until you are a programmer\n",
            "['i', 'e', ' ', 'o', 'l', 'u', 'a', 'r', 'm']\n"
          ]
        }
      ]
    },
    {
      "cell_type": "markdown",
      "source": [
        "**Dictionary Programs**"
      ],
      "metadata": {
        "id": "co3FdBw8vPd4"
      }
    },
    {
      "cell_type": "code",
      "source": [
        "#merge 2 dictionaries\n",
        "\n",
        "def Merge(dict1, dict2):\n",
        "    return(dict2.update(dict1))\n",
        "\n",
        "\n",
        "\n",
        "dict1 = {'a': 10, 'b': 8}\n",
        "dict2 = {'d': 6, 'c': 4}\n",
        "\n",
        "# This returns None\n",
        "print(Merge(dict1, dict2))\n",
        "\n",
        "# changes made in dict2\n",
        "print(dict2)"
      ],
      "metadata": {
        "colab": {
          "base_uri": "https://localhost:8080/"
        },
        "id": "JxjhSziBvNK7",
        "outputId": "d3143958-7317-4100-a39f-9497bf2187b8"
      },
      "execution_count": null,
      "outputs": [
        {
          "output_type": "stream",
          "name": "stdout",
          "text": [
            "None\n",
            "{'d': 6, 'c': 4, 'a': 10, 'b': 8}\n"
          ]
        }
      ]
    },
    {
      "cell_type": "code",
      "source": [
        "from collections import OrderedDict\n",
        "\n",
        "def checkOrder(input,pattern):\n",
        "  dict = OrderedDict.fromkeys(input)\n",
        "  ptrlen=0\n",
        "\n",
        "\n",
        "  for key,value in dict.items():\n",
        "        if (key == pattern[ptrlen]):\n",
        "            ptrlen = ptrlen + 1\n",
        "\n",
        "        # check if we have traverse complete\n",
        "        # pattern string\n",
        "        if (ptrlen == (len(pattern))):\n",
        "            return 'true'\n",
        "\n",
        "    # if we come out from for loop that means\n",
        "    # order was mismatched\n",
        "  return 'false'\n",
        "\n",
        "\n",
        "\n",
        "if __name__ == \"__main__\":\n",
        "    input = 'Programmers Force'\n",
        "    pattern = 'am'\n",
        "    print (checkOrder(input,pattern))"
      ],
      "metadata": {
        "colab": {
          "base_uri": "https://localhost:8080/"
        },
        "id": "sRdONwWMyVi5",
        "outputId": "79d90125-fbe8-4dbd-e33b-b68b96e15b96"
      },
      "execution_count": null,
      "outputs": [
        {
          "output_type": "stream",
          "name": "stdout",
          "text": [
            "true\n"
          ]
        }
      ]
    },
    {
      "cell_type": "code",
      "source": [
        "#handeling missing keys in python\n",
        "\n",
        "country_code = {'India' : '0091',\n",
        "                'Australia' : '0025',\n",
        "                'Nepal' : '00977'}\n",
        "\n",
        "# search dictionary for country code of India\n",
        "print(country_code.get('India', 'Not Found'))\n",
        "\n",
        "# search dictionary for country code of America\n",
        "print(country_code.get('America', 'Not Found'))"
      ],
      "metadata": {
        "colab": {
          "base_uri": "https://localhost:8080/"
        },
        "id": "7AcbqAV30P3W",
        "outputId": "3f1fdb50-699c-4c65-8912-13fc352ae800"
      },
      "execution_count": null,
      "outputs": [
        {
          "output_type": "stream",
          "name": "stdout",
          "text": [
            "0091\n",
            "Not Found\n"
          ]
        }
      ]
    },
    {
      "cell_type": "code",
      "source": [
        "#dictionary to check anagram\n",
        "\n",
        "from collections import Counter\n",
        "\n",
        "def findAnagram(num1,num2):\n",
        "   bin1 = bin(num1)[2:]\n",
        "   bin2 = bin(num2)[2:]\n",
        "\n",
        "   zeros = abs(len(bin1)-len(bin2))\n",
        "   if (len(bin1)>len(bin2)):\n",
        "         bin2 = zeros * '0' + bin2\n",
        "   else:\n",
        "         bin1 = zeros * '0' + bin1\n",
        "\n",
        "    # convert binary representations\n",
        "    # into dictionary\n",
        "   dict1 = Counter(bin1)\n",
        "   dict2 = Counter(bin2)\n",
        "\n",
        "    # compare both dictionaries\n",
        "   if dict1 == dict2:\n",
        "         print('Yes')\n",
        "   else:\n",
        "         print('No')\n",
        "\n",
        "if  __name__ == \"__main__\":\n",
        "    num1 = 3\n",
        "    num2 = 4\n",
        "\n",
        "    findAnagram(num1,num2)"
      ],
      "metadata": {
        "colab": {
          "base_uri": "https://localhost:8080/"
        },
        "id": "koqxhD_r1-Ke",
        "outputId": "241908e9-b1cb-4258-ce86-047a47f04c36"
      },
      "execution_count": null,
      "outputs": [
        {
          "output_type": "stream",
          "name": "stdout",
          "text": [
            "No\n"
          ]
        }
      ]
    },
    {
      "cell_type": "code",
      "source": [
        "# convert tupple in to the dictionary\n",
        "\n",
        "def convert(tuple,dictionary):\n",
        "  for a, b in tuple:\n",
        "        dictionary.setdefault(a, []).append(b)\n",
        "  return dictionary\n",
        "tuple = [('Faheem', 10),('Usama Bhai', 10),('Ali', 10)]\n",
        "\n",
        "dictionary = {}\n",
        "\n",
        "print ('tuple after converter into the dictionary: ', convert(tuple, dictionary))"
      ],
      "metadata": {
        "colab": {
          "base_uri": "https://localhost:8080/"
        },
        "id": "PWB4EY5833hv",
        "outputId": "b8033e41-5aa7-4408-852c-49b1182df327"
      },
      "execution_count": null,
      "outputs": [
        {
          "output_type": "stream",
          "name": "stdout",
          "text": [
            "tuple after converter into the dictionary:  {'Faheem': [10], 'Usama Bhai': [10], 'Ali': [10]}\n"
          ]
        }
      ]
    },
    {
      "cell_type": "markdown",
      "source": [
        "**Tuple Code**"
      ],
      "metadata": {
        "id": "PHf9kVM85gwZ"
      }
    },
    {
      "cell_type": "code",
      "source": [
        "import sys\n",
        "\n",
        "tuple1 = ('Faheem', 10, 'Subhani', 20)\n",
        "tuple2 = ('Muhammad', 'Faheem', 'Subhani')\n",
        "tuple3 = ((1, \"Faheem\"), ( 2, \"Subhani\"), (3, \"Ali\"))\n",
        "\n",
        "#for printing size\n",
        "\n",
        "print(\"Size of Tuple1: \" + str(sys.getsizeof(tuple1)) + \"bytes\")\n",
        "print(\"Size of Tuple2: \" + str(sys.getsizeof(tuple2)) + \"bytes\")\n",
        "print(\"Size of Tuple3: \" + str(sys.getsizeof(tuple3)) + \"bytes\")"
      ],
      "metadata": {
        "colab": {
          "base_uri": "https://localhost:8080/"
        },
        "id": "aV--8IDr5iej",
        "outputId": "21e9f8b5-d52d-4e6f-960c-c60bc0a4240d"
      },
      "execution_count": null,
      "outputs": [
        {
          "output_type": "stream",
          "name": "stdout",
          "text": [
            "Size of Tuple1: 72bytes\n",
            "Size of Tuple2: 64bytes\n",
            "Size of Tuple3: 64bytes\n"
          ]
        }
      ]
    },
    {
      "cell_type": "code",
      "source": [
        "#adding tuple to list and vice\n",
        "\n",
        "list = [5, 6, 7, 8]\n",
        "\n",
        "\n",
        "print(\"The original list is : \" + str(list))\n",
        "\n",
        "# initializing tuple\n",
        "tup = (9, 10)\n",
        "\n",
        "# Adding Tuple to List and vice - versa\n",
        "# Using += operator (list + tuple)\n",
        "list += tup\n",
        "\n",
        "# printing result\n",
        "print(\"The container after addition : \" + str(list))"
      ],
      "metadata": {
        "colab": {
          "base_uri": "https://localhost:8080/"
        },
        "id": "4umz1hj27Cl2",
        "outputId": "71e43d7c-a055-4bab-bc95-f301b780bf98"
      },
      "execution_count": null,
      "outputs": [
        {
          "output_type": "stream",
          "name": "stdout",
          "text": [
            "The original list is : [5, 6, 7, 8]\n",
            "The container after addition : [5, 6, 7, 8, 9, 10]\n"
          ]
        }
      ]
    },
    {
      "cell_type": "markdown",
      "source": [
        "**Searching and Sorting Programs**"
      ],
      "metadata": {
        "id": "8YC6XP41BWbI"
      }
    },
    {
      "cell_type": "code",
      "source": [
        "#binary search\n",
        "\n",
        "pos = -1\n",
        "\n",
        "def binary_search(Array, n):\n",
        "    l = 0\n",
        "    u = len(Array) - 1\n",
        "\n",
        "    while l <= u:\n",
        "        mid = (l + u) // 2\n",
        "\n",
        "        if Array[mid] == n:\n",
        "            globals()['pos'] = mid\n",
        "            return True\n",
        "\n",
        "        else:\n",
        "            if Array[mid] < n:\n",
        "                l = mid + 1\n",
        "            else:\n",
        "                u = mid - 1\n",
        "\n",
        "Array = [1, 2, 3, 4, 5, 66, 45, 34, 32]\n",
        "n = 5\n",
        "\n",
        "if binary_search(Array, n):\n",
        "    print('Number found at index:', pos)\n",
        "else:\n",
        "    print('Not Found')"
      ],
      "metadata": {
        "colab": {
          "base_uri": "https://localhost:8080/"
        },
        "id": "xL8HqYbIBav9",
        "outputId": "8f2e03f8-9b03-47ac-8db7-71721a02a0d9"
      },
      "execution_count": null,
      "outputs": [
        {
          "output_type": "stream",
          "name": "stdout",
          "text": [
            "Number found at index: 4\n"
          ]
        }
      ]
    },
    {
      "cell_type": "code",
      "source": [
        "#quick sort\n",
        "\n",
        "def quicksort(arr):\n",
        "    if len(arr) <= 1:\n",
        "        return arr\n",
        "    else:\n",
        "        pivot = arr[0]\n",
        "        left = [x for x in arr[1:] if x < pivot]\n",
        "        right = [x for x in arr[1:] if x >= pivot]\n",
        "        return quicksort(left) + [pivot] + quicksort(right)\n",
        "\n",
        "\n",
        "\n",
        "arr = [1,2,3,-3,-4,4,2,7]\n",
        "sorted_arr = quicksort(arr)\n",
        "print(\"Sorted Array in Ascending Order:\")\n",
        "print(sorted_arr)"
      ],
      "metadata": {
        "colab": {
          "base_uri": "https://localhost:8080/"
        },
        "id": "wsXj_3UEXS-9",
        "outputId": "1da4a6e1-dd7c-4f7b-ddae-f5b74f03ba5e"
      },
      "execution_count": null,
      "outputs": [
        {
          "output_type": "stream",
          "name": "stdout",
          "text": [
            "Sorted Array in Ascending Order:\n",
            "[-4, -3, 1, 2, 2, 3, 4, 7]\n"
          ]
        }
      ]
    },
    {
      "cell_type": "code",
      "source": [
        "#bubble sort\n",
        "\n",
        "def sorting(lst):\n",
        "    for i in range(len(lst) - 1, 0, -1):\n",
        "        for j in range(i):\n",
        "            if lst[j] > lst[j + 1]:\n",
        "                temp = lst[j]\n",
        "                lst[j] = lst[j + 1]\n",
        "                lst[j + 1] = temp\n",
        "\n",
        "list = [3, 2, 5, 4, 7, 6, 8, 2]\n",
        "sorting(list)\n",
        "print(list)"
      ],
      "metadata": {
        "colab": {
          "base_uri": "https://localhost:8080/"
        },
        "id": "-Csa8o-_a-_A",
        "outputId": "417efc49-988b-43f7-e0f6-bbe82b05fff9"
      },
      "execution_count": null,
      "outputs": [
        {
          "output_type": "stream",
          "name": "stdout",
          "text": [
            "[2, 2, 3, 4, 5, 6, 7, 8]\n"
          ]
        }
      ]
    },
    {
      "cell_type": "code",
      "source": [
        "#merge sort\n",
        "\n",
        "def merge_sort(lst):\n",
        "    if len(lst) > 1:\n",
        "        mid = len(lst) // 2\n",
        "        left_half = lst[:mid]\n",
        "        right_half = lst[mid:]\n",
        "\n",
        "        # Recursive call on the left and right halves\n",
        "        merge_sort(left_half)\n",
        "        merge_sort(right_half)\n",
        "\n",
        "        # Merge the two sorted halves\n",
        "        merge(lst, left_half, right_half)\n",
        "\n",
        "def merge(lst, left_half, right_half):\n",
        "    i = j = k = 0\n",
        "\n",
        "    while i < len(left_half) and j < len(right_half):\n",
        "        if left_half[i] < right_half[j]:\n",
        "            lst[k] = left_half[i]\n",
        "            i += 1\n",
        "        else:\n",
        "            lst[k] = right_half[j]\n",
        "            j += 1\n",
        "        k += 1\n",
        "\n",
        "    # Check if any elements are left in the left_half or right_half\n",
        "    while i < len(left_half):\n",
        "        lst[k] = left_half[i]\n",
        "        i += 1\n",
        "        k += 1\n",
        "\n",
        "    while j < len(right_half):\n",
        "        lst[k] = right_half[j]\n",
        "        j += 1\n",
        "        k += 1\n",
        "\n",
        "# Example usage\n",
        "list_to_sort = [12,23,32,21,45,43,6,76,10,]\n",
        "print(\"Original List:\", list_to_sort)\n",
        "\n",
        "merge_sort(list_to_sort)\n",
        "print(\"Sorted List:\", list_to_sort)"
      ],
      "metadata": {
        "colab": {
          "base_uri": "https://localhost:8080/"
        },
        "id": "TdZNPW5Hdvn1",
        "outputId": "3def0930-9df4-4b97-8284-b2379f4bd31f"
      },
      "execution_count": null,
      "outputs": [
        {
          "output_type": "stream",
          "name": "stdout",
          "text": [
            "Original List: [12, 23, 32, 21, 45, 43, 6, 76, 10]\n",
            "Sorted List: [6, 10, 12, 21, 23, 32, 43, 45, 76]\n"
          ]
        }
      ]
    },
    {
      "cell_type": "code",
      "source": [
        "#oddeven sort\n",
        "\n",
        "def oddEvenSort(arr, n):\n",
        "    # Initially array is unsorted\n",
        "    isSorted = 0\n",
        "    while isSorted == 0:\n",
        "        isSorted = 1\n",
        "        temp = 0\n",
        "        for i in range(1, n-1, 2):\n",
        "            if arr[i] > arr[i+1]:\n",
        "                arr[i], arr[i+1] = arr[i+1], arr[i]\n",
        "                isSorted = 0\n",
        "\n",
        "        for i in range(0, n-1, 2):\n",
        "            if arr[i] > arr[i+1]:\n",
        "                arr[i], arr[i+1] = arr[i+1], arr[i]\n",
        "                isSorted = 0\n",
        "\n",
        "    return\n",
        "\n",
        "\n",
        "arr = [5,3,7,9,10,-21,34]\n",
        "n = len(arr)\n",
        "\n",
        "oddEvenSort(arr, n);\n",
        "for i in range(0, n):\n",
        "    print(arr[i], end =\" \")"
      ],
      "metadata": {
        "colab": {
          "base_uri": "https://localhost:8080/"
        },
        "id": "SJLkIDOj1P1G",
        "outputId": "dc8a2fbc-1c3a-4896-873d-f4ecca325a32"
      },
      "execution_count": null,
      "outputs": [
        {
          "output_type": "stream",
          "name": "stdout",
          "text": [
            "-21 3 5 7 9 10 34 "
          ]
        }
      ]
    },
    {
      "cell_type": "markdown",
      "source": [
        "**Patteren Print code**"
      ],
      "metadata": {
        "id": "G0_KOqwEhzm-"
      }
    },
    {
      "cell_type": "code",
      "source": [
        "#pattern printing\n",
        "\n",
        "def print_pattern(n):\n",
        "    for i in range(n, 0, -1):\n",
        "        print(\" \" * (n - i), end=\"\")\n",
        "        print(\"*\" * i)\n",
        "\n",
        "# Example usage\n",
        "n = 5\n",
        "print_pattern(n)"
      ],
      "metadata": {
        "colab": {
          "base_uri": "https://localhost:8080/"
        },
        "id": "8hQz1hDurSkZ",
        "outputId": "e06b29bb-7263-4ff1-d0c0-9586f7522812"
      },
      "execution_count": null,
      "outputs": [
        {
          "output_type": "stream",
          "name": "stdout",
          "text": [
            "*****\n",
            " ****\n",
            "  ***\n",
            "   **\n",
            "    *\n"
          ]
        }
      ]
    },
    {
      "cell_type": "code",
      "source": [
        "# Python program to print pattern G\n",
        "def Pattern(line):\n",
        "    pat=\"\"\n",
        "    for i in range(0,line):\n",
        "        for j in range(0,line):\n",
        "            if ((j == 1 and i != 0 and i != line-1) or ((i == 0 or\n",
        "                i == line-1) and j > 1 and j < line-2) or (i == ((line-1)/2)\n",
        "                and j > line-5 and j < line-1) or (j == line-2 and\n",
        "                i != 0 and i != line-1 and i >=((line-1)/2))):\n",
        "                pat=pat+\"*\"\n",
        "            else:\n",
        "                pat=pat+\" \"\n",
        "        pat=pat+\"\\n\"\n",
        "    return pat\n",
        "\n",
        "# Driver Code\n",
        "line = 8\n",
        "print(Pattern(line))"
      ],
      "metadata": {
        "colab": {
          "base_uri": "https://localhost:8080/"
        },
        "id": "7is8YXYshy2j",
        "outputId": "975e47e7-25bc-46ca-d4c1-c0e998a02308"
      },
      "execution_count": null,
      "outputs": [
        {
          "output_type": "stream",
          "name": "stdout",
          "text": [
            "  ****  \n",
            " *      \n",
            " *      \n",
            " *      \n",
            " *    * \n",
            " *    * \n",
            " *    * \n",
            "  ****  \n",
            "\n"
          ]
        }
      ]
    },
    {
      "cell_type": "markdown",
      "source": [
        "**Date Time Programs**"
      ],
      "metadata": {
        "id": "g2jmASQyurHn"
      }
    },
    {
      "cell_type": "code",
      "source": [
        "from datetime import *\n",
        "import pytz\n",
        "\n",
        "time_pakistan = pytz.timezone('Asia/Karachi')\n",
        "datetime_pakistan = datetime.now(time_pakistan)\n",
        "print(\"PAKISTAN time:\", datetime_pakistan.strftime(\"%H:%M:%S\"))"
      ],
      "metadata": {
        "colab": {
          "base_uri": "https://localhost:8080/"
        },
        "id": "QkMj23eEuthn",
        "outputId": "600a5531-3942-486e-8f50-0f99e539c587"
      },
      "execution_count": null,
      "outputs": [
        {
          "output_type": "stream",
          "name": "stdout",
          "text": [
            "PAKISTAN time: 22:54:31\n"
          ]
        }
      ]
    },
    {
      "cell_type": "code",
      "source": [
        "import re\n",
        "\n",
        "regex = r'\\b[A-Za-z0-9._%+-]+@[A-Za-z0-9.-]+\\.[A-Z|a-z]{2,7}\\b'\n",
        "\n",
        "\n",
        "def check(email):\n",
        "\n",
        "\n",
        "    if(re.fullmatch(regex, email)):\n",
        "        print(\"Valid Email\")\n",
        "\n",
        "    else:\n",
        "        print(\"Invalid Email\")\n",
        "\n",
        "\n",
        "if __name__ == '__main__':\n",
        "  email = input(\"Please enter your email address: \")\n",
        "  check(email)"
      ],
      "metadata": {
        "colab": {
          "base_uri": "https://localhost:8080/"
        },
        "id": "7pH5PX-BviC3",
        "outputId": "c6eba066-efad-4f6d-9769-3ddcf84c0cf9"
      },
      "execution_count": null,
      "outputs": [
        {
          "output_type": "stream",
          "name": "stdout",
          "text": [
            "Please enter your email address: abbasifaheem.com\n",
            "Invalid Email\n"
          ]
        }
      ]
    }
  ]
}