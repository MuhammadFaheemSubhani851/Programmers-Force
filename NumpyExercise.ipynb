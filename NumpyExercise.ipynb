{
  "nbformat": 4,
  "nbformat_minor": 0,
  "metadata": {
    "colab": {
      "provenance": []
    },
    "kernelspec": {
      "name": "python3",
      "display_name": "Python 3"
    },
    "language_info": {
      "name": "python"
    }
  },
  "cells": [
    {
      "cell_type": "markdown",
      "source": [
        "**1. Import the numpy package under the name**"
      ],
      "metadata": {
        "id": "fURY2W3KFNW_"
      }
    },
    {
      "cell_type": "code",
      "execution_count": null,
      "metadata": {
        "id": "tDNyVwscEkXg"
      },
      "outputs": [],
      "source": [
        "import numpy as np"
      ]
    },
    {
      "cell_type": "markdown",
      "source": [
        "**2. Print the numpy version and the configuration**"
      ],
      "metadata": {
        "id": "ocrh5z5VSSwN"
      }
    },
    {
      "cell_type": "code",
      "source": [
        "print(np.__version__)\n",
        "np.show_config()"
      ],
      "metadata": {
        "colab": {
          "base_uri": "https://localhost:8080/"
        },
        "id": "840hEgdxSXGn",
        "outputId": "15de1d4d-b641-4c34-b30e-d9179fa59de7"
      },
      "execution_count": null,
      "outputs": [
        {
          "output_type": "stream",
          "name": "stdout",
          "text": [
            "1.22.4\n",
            "openblas64__info:\n",
            "    libraries = ['openblas64_', 'openblas64_']\n",
            "    library_dirs = ['/usr/local/lib']\n",
            "    language = c\n",
            "    define_macros = [('HAVE_CBLAS', None), ('BLAS_SYMBOL_SUFFIX', '64_'), ('HAVE_BLAS_ILP64', None)]\n",
            "    runtime_library_dirs = ['/usr/local/lib']\n",
            "blas_ilp64_opt_info:\n",
            "    libraries = ['openblas64_', 'openblas64_']\n",
            "    library_dirs = ['/usr/local/lib']\n",
            "    language = c\n",
            "    define_macros = [('HAVE_CBLAS', None), ('BLAS_SYMBOL_SUFFIX', '64_'), ('HAVE_BLAS_ILP64', None)]\n",
            "    runtime_library_dirs = ['/usr/local/lib']\n",
            "openblas64__lapack_info:\n",
            "    libraries = ['openblas64_', 'openblas64_']\n",
            "    library_dirs = ['/usr/local/lib']\n",
            "    language = c\n",
            "    define_macros = [('HAVE_CBLAS', None), ('BLAS_SYMBOL_SUFFIX', '64_'), ('HAVE_BLAS_ILP64', None), ('HAVE_LAPACKE', None)]\n",
            "    runtime_library_dirs = ['/usr/local/lib']\n",
            "lapack_ilp64_opt_info:\n",
            "    libraries = ['openblas64_', 'openblas64_']\n",
            "    library_dirs = ['/usr/local/lib']\n",
            "    language = c\n",
            "    define_macros = [('HAVE_CBLAS', None), ('BLAS_SYMBOL_SUFFIX', '64_'), ('HAVE_BLAS_ILP64', None), ('HAVE_LAPACKE', None)]\n",
            "    runtime_library_dirs = ['/usr/local/lib']\n",
            "Supported SIMD extensions in this NumPy install:\n",
            "    baseline = SSE,SSE2,SSE3\n",
            "    found = SSSE3,SSE41,POPCNT,SSE42,AVX,F16C,FMA3,AVX2\n",
            "    not found = AVX512F,AVX512CD,AVX512_KNL,AVX512_KNM,AVX512_SKX,AVX512_CLX,AVX512_CNL,AVX512_ICL\n"
          ]
        }
      ]
    },
    {
      "cell_type": "markdown",
      "source": [
        "**3. Create a null vector of size 10**"
      ],
      "metadata": {
        "id": "X5jIgaATTBJ6"
      }
    },
    {
      "cell_type": "code",
      "source": [
        "F = np.zeros(10)\n",
        "print(F)"
      ],
      "metadata": {
        "colab": {
          "base_uri": "https://localhost:8080/"
        },
        "id": "Rv24Z9nFTQu5",
        "outputId": "941922b9-d9c8-4433-b3fc-3f36884a2db0"
      },
      "execution_count": null,
      "outputs": [
        {
          "output_type": "stream",
          "name": "stdout",
          "text": [
            "[0. 0. 0. 0. 0. 0. 0. 0. 0. 0.]\n"
          ]
        }
      ]
    },
    {
      "cell_type": "markdown",
      "source": [
        "**4. How to find the memory size of any array**"
      ],
      "metadata": {
        "id": "_xdfVuE8TIXj"
      }
    },
    {
      "cell_type": "code",
      "source": [
        "F = np.zeros((10,10))\n",
        "print(\"%d bytes\" % (F.size * F.itemsize))"
      ],
      "metadata": {
        "colab": {
          "base_uri": "https://localhost:8080/"
        },
        "id": "PeKTUiaVn02b",
        "outputId": "afaee797-198c-401b-9db4-dba98758fed1"
      },
      "execution_count": null,
      "outputs": [
        {
          "output_type": "stream",
          "name": "stdout",
          "text": [
            "800 bytes\n"
          ]
        }
      ]
    },
    {
      "cell_type": "markdown",
      "source": [
        "**5. Create a null vector of size 10 but the fifth value which is 1**"
      ],
      "metadata": {
        "id": "sDvqtfvipvsx"
      }
    },
    {
      "cell_type": "code",
      "source": [
        "F = np.zeros(10)\n",
        "F[4]=1\n",
        "print(F)"
      ],
      "metadata": {
        "colab": {
          "base_uri": "https://localhost:8080/"
        },
        "id": "gUoz4sknpv_a",
        "outputId": "3cb799e7-3c2f-483d-ad53-a77eea43d2fb"
      },
      "execution_count": null,
      "outputs": [
        {
          "output_type": "stream",
          "name": "stdout",
          "text": [
            "[0. 0. 0. 0. 1. 0. 0. 0. 0. 0.]\n"
          ]
        }
      ]
    },
    {
      "cell_type": "markdown",
      "source": [
        "**6. Create a vector with values ranging from 10 to 49**"
      ],
      "metadata": {
        "id": "fgtsER80qMlW"
      }
    },
    {
      "cell_type": "code",
      "source": [
        "F = np.arange(10,50)\n",
        "print(F)"
      ],
      "metadata": {
        "colab": {
          "base_uri": "https://localhost:8080/"
        },
        "id": "pNsK503oqM4r",
        "outputId": "728a9f21-055f-499f-93c0-33dd2e9793e6"
      },
      "execution_count": null,
      "outputs": [
        {
          "output_type": "stream",
          "name": "stdout",
          "text": [
            "[10 11 12 13 14 15 16 17 18 19 20 21 22 23 24 25 26 27 28 29 30 31 32 33\n",
            " 34 35 36 37 38 39 40 41 42 43 44 45 46 47 48 49]\n"
          ]
        }
      ]
    },
    {
      "cell_type": "markdown",
      "source": [
        "**7. Create a 3x3 matrix with values ranging from 0 to 8**"
      ],
      "metadata": {
        "id": "TPgx7PO7r1QD"
      }
    },
    {
      "cell_type": "code",
      "source": [
        "F = np.arange(9).reshape(3,3)\n",
        "print(F)"
      ],
      "metadata": {
        "colab": {
          "base_uri": "https://localhost:8080/"
        },
        "id": "y9zWCB2br3Bi",
        "outputId": "2fb00118-cce2-4d2a-f552-6703e8905929"
      },
      "execution_count": null,
      "outputs": [
        {
          "output_type": "stream",
          "name": "stdout",
          "text": [
            "[[0 1 2]\n",
            " [3 4 5]\n",
            " [6 7 8]]\n"
          ]
        }
      ]
    },
    {
      "cell_type": "markdown",
      "source": [
        "**8. Find indices of non-zero elements from [1,2,0,0,4,0]**"
      ],
      "metadata": {
        "id": "06T7rS43sews"
      }
    },
    {
      "cell_type": "code",
      "source": [
        "F = np.nonzero([1,2,0,0,4,0])\n",
        "print(F)"
      ],
      "metadata": {
        "colab": {
          "base_uri": "https://localhost:8080/"
        },
        "id": "-GJqqH_CsfD4",
        "outputId": "f0e22766-5067-4883-8307-5d4329224720"
      },
      "execution_count": null,
      "outputs": [
        {
          "output_type": "stream",
          "name": "stdout",
          "text": [
            "(array([0, 1, 4]),)\n"
          ]
        }
      ]
    },
    {
      "cell_type": "markdown",
      "source": [
        "**9. Create a 10x10 array with random values and find the minimum and maximum values**"
      ],
      "metadata": {
        "id": "Dos-GVWvs0lm"
      }
    },
    {
      "cell_type": "code",
      "source": [
        "F = np.random.random((10,10))\n",
        "Fmin, Fmax = F.min(), F.max()\n",
        "print(Fmin,Fmax)"
      ],
      "metadata": {
        "colab": {
          "base_uri": "https://localhost:8080/"
        },
        "id": "oXKZcHhds0-b",
        "outputId": "98a0ef49-deb2-48a5-bcb3-d6d3814e2018"
      },
      "execution_count": null,
      "outputs": [
        {
          "output_type": "stream",
          "name": "stdout",
          "text": [
            "0.00047332929110488475 0.9898628012810118\n"
          ]
        }
      ]
    },
    {
      "cell_type": "markdown",
      "source": [
        "**10. Create a random vector of size 30 and find the mean value**"
      ],
      "metadata": {
        "id": "r8PwkraTtojj"
      }
    },
    {
      "cell_type": "code",
      "source": [
        "F = np.random.random(10)\n",
        "r = F.mean()\n",
        "print(r)"
      ],
      "metadata": {
        "colab": {
          "base_uri": "https://localhost:8080/"
        },
        "id": "687HYtGytoyI",
        "outputId": "b35b8f34-deb1-4584-f6b3-0ae7f7f5ad9d"
      },
      "execution_count": null,
      "outputs": [
        {
          "output_type": "stream",
          "name": "stdout",
          "text": [
            "0.42021380038072015\n"
          ]
        }
      ]
    },
    {
      "cell_type": "markdown",
      "source": [
        "**11. Create a 2d array with 1 on the border and 0 inside**"
      ],
      "metadata": {
        "id": "ZY_DOrfBuBZy"
      }
    },
    {
      "cell_type": "code",
      "source": [
        "F = np.ones((10,10))\n",
        "F[1:-1,1:-1] = 0\n",
        "print(F)"
      ],
      "metadata": {
        "colab": {
          "base_uri": "https://localhost:8080/"
        },
        "id": "bGIegvRFuBpk",
        "outputId": "c9a8c43c-adb4-4aeb-9731-acaab445148d"
      },
      "execution_count": null,
      "outputs": [
        {
          "output_type": "stream",
          "name": "stdout",
          "text": [
            "[[1. 1. 1. 1. 1. 1. 1. 1. 1. 1.]\n",
            " [1. 0. 0. 0. 0. 0. 0. 0. 0. 1.]\n",
            " [1. 0. 0. 0. 0. 0. 0. 0. 0. 1.]\n",
            " [1. 0. 0. 0. 0. 0. 0. 0. 0. 1.]\n",
            " [1. 0. 0. 0. 0. 0. 0. 0. 0. 1.]\n",
            " [1. 0. 0. 0. 0. 0. 0. 0. 0. 1.]\n",
            " [1. 0. 0. 0. 0. 0. 0. 0. 0. 1.]\n",
            " [1. 0. 0. 0. 0. 0. 0. 0. 0. 1.]\n",
            " [1. 0. 0. 0. 0. 0. 0. 0. 0. 1.]\n",
            " [1. 1. 1. 1. 1. 1. 1. 1. 1. 1.]]\n"
          ]
        }
      ]
    },
    {
      "cell_type": "markdown",
      "source": [
        "**12. How to add a border (filled with 0's) around an existing array?**"
      ],
      "metadata": {
        "id": "xGM3-ysjxhAV"
      }
    },
    {
      "cell_type": "code",
      "source": [
        "Z = np.ones((5,5))\n",
        "Z[:, [0, -1]] = 0\n",
        "Z[[0, -1], :] = 0\n",
        "print(Z)"
      ],
      "metadata": {
        "colab": {
          "base_uri": "https://localhost:8080/"
        },
        "id": "Wt0lP_UTxjCo",
        "outputId": "e2dc968f-0a24-42f4-c62e-ea8fea2f35a0"
      },
      "execution_count": null,
      "outputs": [
        {
          "output_type": "stream",
          "name": "stdout",
          "text": [
            "[[0. 0. 0. 0. 0.]\n",
            " [0. 1. 1. 1. 0.]\n",
            " [0. 1. 1. 1. 0.]\n",
            " [0. 1. 1. 1. 0.]\n",
            " [0. 0. 0. 0. 0.]]\n"
          ]
        }
      ]
    },
    {
      "cell_type": "markdown",
      "source": [
        "**13. What is the result of the following expression?**"
      ],
      "metadata": {
        "id": "XnmF1YxqyjdM"
      }
    },
    {
      "cell_type": "code",
      "source": [
        "print(0 * np.nan)\n",
        "print(np.nan == np.nan)\n",
        "print(np.inf > np.nan)\n",
        "print(np.nan - np.nan)\n",
        "print(np.nan in set([np.nan]))\n",
        "print(0.3 == 3 * 0.1)"
      ],
      "metadata": {
        "colab": {
          "base_uri": "https://localhost:8080/"
        },
        "id": "Rq2KyQVHyj05",
        "outputId": "6c16c48d-7b9c-43c0-bf0e-cca3b8455bbb"
      },
      "execution_count": null,
      "outputs": [
        {
          "output_type": "stream",
          "name": "stdout",
          "text": [
            "nan\n",
            "False\n",
            "False\n",
            "nan\n",
            "True\n",
            "False\n"
          ]
        }
      ]
    },
    {
      "cell_type": "markdown",
      "source": [
        "**14. Create a 8x8 matrix and fill it with a checkerboard pattern**"
      ],
      "metadata": {
        "id": "mQ88HS-Jzbmw"
      }
    },
    {
      "cell_type": "code",
      "source": [
        "Z = np.zeros((8,8),dtype=int)\n",
        "Z[1::2,::2] = 1\n",
        "Z[::2,1::2] = 1\n",
        "print(Z)"
      ],
      "metadata": {
        "colab": {
          "base_uri": "https://localhost:8080/"
        },
        "id": "ECQ8FKhAzbyx",
        "outputId": "c5b127b9-60b6-477a-c581-42ec5edf62e3"
      },
      "execution_count": null,
      "outputs": [
        {
          "output_type": "stream",
          "name": "stdout",
          "text": [
            "[[0 1 0 1 0 1 0 1]\n",
            " [1 0 1 0 1 0 1 0]\n",
            " [0 1 0 1 0 1 0 1]\n",
            " [1 0 1 0 1 0 1 0]\n",
            " [0 1 0 1 0 1 0 1]\n",
            " [1 0 1 0 1 0 1 0]\n",
            " [0 1 0 1 0 1 0 1]\n",
            " [1 0 1 0 1 0 1 0]]\n"
          ]
        }
      ]
    },
    {
      "cell_type": "markdown",
      "source": [
        "**15. Create a checkerboard 8x8 matrix using the tile function**"
      ],
      "metadata": {
        "id": "qnVF-yo00wjR"
      }
    },
    {
      "cell_type": "code",
      "source": [
        "F = np.tile(np.array([[0,1],[1,0]]), (4,4))\n",
        "print(F)"
      ],
      "metadata": {
        "colab": {
          "base_uri": "https://localhost:8080/"
        },
        "id": "O2ifitlf0wzk",
        "outputId": "5123ec30-f3a2-496d-831a-2f28a760ca2c"
      },
      "execution_count": null,
      "outputs": [
        {
          "output_type": "stream",
          "name": "stdout",
          "text": [
            "[[0 1 0 1 0 1 0 1]\n",
            " [1 0 1 0 1 0 1 0]\n",
            " [0 1 0 1 0 1 0 1]\n",
            " [1 0 1 0 1 0 1 0]\n",
            " [0 1 0 1 0 1 0 1]\n",
            " [1 0 1 0 1 0 1 0]\n",
            " [0 1 0 1 0 1 0 1]\n",
            " [1 0 1 0 1 0 1 0]]\n"
          ]
        }
      ]
    },
    {
      "cell_type": "markdown",
      "source": [
        "**16. Normalize a 5x5 random matrix**"
      ],
      "metadata": {
        "id": "rDTfngwy1wIW"
      }
    },
    {
      "cell_type": "code",
      "source": [
        "F = np.random.random((5,5))\n",
        "F = (F - np.mean (F)) / (np.std (F))\n",
        "print(F)"
      ],
      "metadata": {
        "colab": {
          "base_uri": "https://localhost:8080/"
        },
        "id": "jm_MZ1LM0w6W",
        "outputId": "08a27bd8-62e2-476d-9603-9ba42a1678dd"
      },
      "execution_count": null,
      "outputs": [
        {
          "output_type": "stream",
          "name": "stdout",
          "text": [
            "[[ 1.80369064  1.12030665  1.32046865 -0.410323    0.67953901]\n",
            " [-1.16537876 -0.36712433  0.05491947  1.12492531  0.87629999]\n",
            " [-1.2562655  -1.04561849  1.45317202 -0.80077157 -0.73251507]\n",
            " [ 1.21032839 -1.115437   -1.10079364  1.15092763 -0.66453242]\n",
            " [-0.97237879 -0.79247761  0.19139704 -1.0467362   0.48437759]]\n"
          ]
        }
      ]
    },
    {
      "cell_type": "markdown",
      "source": [
        "**17. Multiply a 5x3 matrix by a 3x2 matrix (real matrix product)**"
      ],
      "metadata": {
        "id": "Bs5mfoqj4JRF"
      }
    },
    {
      "cell_type": "code",
      "source": [
        "F = np.dot(np.ones((5,3)), np.ones((3,2)))\n",
        "print(F)"
      ],
      "metadata": {
        "colab": {
          "base_uri": "https://localhost:8080/"
        },
        "id": "mAsheFM-4JfI",
        "outputId": "f655287c-033c-4745-ec41-88f113524252"
      },
      "execution_count": null,
      "outputs": [
        {
          "output_type": "stream",
          "name": "stdout",
          "text": [
            "[[3. 3.]\n",
            " [3. 3.]\n",
            " [3. 3.]\n",
            " [3. 3.]\n",
            " [3. 3.]]\n"
          ]
        }
      ]
    },
    {
      "cell_type": "markdown",
      "source": [
        "**18. What is the output of the following script?**"
      ],
      "metadata": {
        "id": "qPNWfnX74anD"
      }
    },
    {
      "cell_type": "code",
      "source": [
        "print(sum(range(5),-1))\n",
        "from numpy import *\n",
        "print(sum(range(5),-1))"
      ],
      "metadata": {
        "colab": {
          "base_uri": "https://localhost:8080/"
        },
        "id": "QnzTmQsb4a0n",
        "outputId": "db00d779-9a01-4ff8-8e35-d6e3d29c0834"
      },
      "execution_count": null,
      "outputs": [
        {
          "output_type": "stream",
          "name": "stdout",
          "text": [
            "9\n",
            "10\n"
          ]
        }
      ]
    },
    {
      "cell_type": "markdown",
      "source": [
        "**19. What are the result of the following expressions?**"
      ],
      "metadata": {
        "id": "0UrRhwSA8ZAz"
      }
    },
    {
      "cell_type": "code",
      "source": [
        "np.array(0) / np.array(0)  #RuntimeWarning: invalid value encountered in true_divide np.array(0) / np.array(0)\n",
        "np.array(0) // np.array(0) #RuntimeWarning: divide by zero encountered in floor_divide np.array(0) // np.array(0)\n",
        "np.array([np.nan]).astype(int).astype(float)  #array([0.])"
      ],
      "metadata": {
        "colab": {
          "base_uri": "https://localhost:8080/"
        },
        "id": "zst70FPC8ZNJ",
        "outputId": "db3d58c1-68ef-48a8-d7b6-c53b0fd8f5bb"
      },
      "execution_count": null,
      "outputs": [
        {
          "output_type": "stream",
          "name": "stderr",
          "text": [
            "<ipython-input-24-cd809174da5d>:1: RuntimeWarning: invalid value encountered in true_divide\n",
            "  np.array(0) / np.array(0)\n",
            "<ipython-input-24-cd809174da5d>:2: RuntimeWarning: divide by zero encountered in floor_divide\n",
            "  np.array(0) // np.array(0)\n"
          ]
        },
        {
          "output_type": "execute_result",
          "data": {
            "text/plain": [
              "array([-9.22337204e+18])"
            ]
          },
          "metadata": {},
          "execution_count": 24
        }
      ]
    },
    {
      "cell_type": "markdown",
      "source": [
        "**20. How to round away from zero a float array ?**"
      ],
      "metadata": {
        "id": "JZM4oLv29SEe"
      }
    },
    {
      "cell_type": "code",
      "source": [
        "Z = np.random.uniform(-10,+10,10)\n",
        "print(np.copysign(np.ceil(np.abs(Z)), Z))\n"
      ],
      "metadata": {
        "colab": {
          "base_uri": "https://localhost:8080/"
        },
        "id": "h2RP-2Br9SSA",
        "outputId": "fab00ba7-ab05-4a69-b144-e8fbf11548c9"
      },
      "execution_count": null,
      "outputs": [
        {
          "output_type": "stream",
          "name": "stdout",
          "text": [
            "[ -3.   1.  -8.  -3.   2.   2. -10.   1. -10.  -2.]\n"
          ]
        }
      ]
    },
    {
      "cell_type": "markdown",
      "source": [
        "**21. How to find common values between two arrays?**"
      ],
      "metadata": {
        "id": "aaegC-k1_Wmq"
      }
    },
    {
      "cell_type": "code",
      "source": [
        "F1 = np.random.randint(0,10,10)\n",
        "F2 = np.random.randint(0,10,10)\n",
        "print(np.intersect1d(F1,F2))"
      ],
      "metadata": {
        "colab": {
          "base_uri": "https://localhost:8080/"
        },
        "id": "f8HXdgwI_W0y",
        "outputId": "160b72aa-bfb6-40c4-e192-7725892e201e"
      },
      "execution_count": null,
      "outputs": [
        {
          "output_type": "stream",
          "name": "stdout",
          "text": [
            "[0 2 7 9]\n"
          ]
        }
      ]
    },
    {
      "cell_type": "markdown",
      "source": [
        "**22. How to ignore all numpy warnings (not recommended)?**"
      ],
      "metadata": {
        "id": "v-HrvBS4C259"
      }
    },
    {
      "cell_type": "code",
      "source": [
        "# Suicide mode on\n",
        "defaults = np.seterr(all=\"ignore\")\n",
        "Z = np.ones(1) / 0\n",
        "\n",
        "# Back to sanity\n",
        "_ = np.seterr(**defaults)\n",
        "\n",
        "# Equivalently with a context manager\n",
        "with np.errstate(all=\"ignore\"):\n",
        "    np.arange(3) / 0"
      ],
      "metadata": {
        "id": "yj8xLr3rC3Iz"
      },
      "execution_count": null,
      "outputs": []
    },
    {
      "cell_type": "markdown",
      "source": [
        "**23. How to get the dates of yesterday, today and tomorrow?**"
      ],
      "metadata": {
        "id": "E4ofPpadEoTF"
      }
    },
    {
      "cell_type": "code",
      "source": [
        "yesterday = np.datetime64('today') - np.timedelta64(1)\n",
        "today     = np.datetime64('today')\n",
        "tomorrow  = np.datetime64('today') + np.timedelta64(1)\n",
        "print(yesterday)\n",
        "print(today)\n",
        "print(tomorrow)"
      ],
      "metadata": {
        "colab": {
          "base_uri": "https://localhost:8080/"
        },
        "id": "OjnCyf0VEof4",
        "outputId": "4268b16c-b18e-4817-f8d1-81db910db62b"
      },
      "execution_count": null,
      "outputs": [
        {
          "output_type": "stream",
          "name": "stdout",
          "text": [
            "2023-07-22\n",
            "2023-07-23\n",
            "2023-07-24\n"
          ]
        }
      ]
    },
    {
      "cell_type": "markdown",
      "source": [
        "**24. How to compute ((A+B)*(-A/2)) in place (without copy)?**"
      ],
      "metadata": {
        "id": "lWJ_HSoXFV7P"
      }
    },
    {
      "cell_type": "code",
      "source": [
        "A = np.ones(3)*1\n",
        "B = np.ones(3)*2\n",
        "np.add(A,B, out=B)\n",
        "np.divide(A,2, out=A)\n",
        "np.negative(A, out=A)\n",
        "np.multiply(A,B, out=A)"
      ],
      "metadata": {
        "colab": {
          "base_uri": "https://localhost:8080/"
        },
        "id": "LzbBZ-VBFN61",
        "outputId": "00b1b83a-d724-4ace-ac17-fedbb37b6937"
      },
      "execution_count": null,
      "outputs": [
        {
          "output_type": "execute_result",
          "data": {
            "text/plain": [
              "array([-1.5, -1.5, -1.5])"
            ]
          },
          "metadata": {},
          "execution_count": 33
        }
      ]
    },
    {
      "cell_type": "markdown",
      "source": [
        "**25. Consider a generator function that generates 10 integers and use it to build an array**"
      ],
      "metadata": {
        "id": "rmVxGV0nHGXD"
      }
    },
    {
      "cell_type": "code",
      "source": [
        "def generate():\n",
        "    for x in range(10):\n",
        "        yield x\n",
        "\n",
        "\n",
        "Z = np.fromiter(generate(),dtype=float,count=-1)\n",
        "print(Z)"
      ],
      "metadata": {
        "colab": {
          "base_uri": "https://localhost:8080/"
        },
        "id": "18h5kBOtHGlC",
        "outputId": "d9bd80ef-b2d4-481a-d16b-fb37e7aa8c0a"
      },
      "execution_count": null,
      "outputs": [
        {
          "output_type": "stream",
          "name": "stdout",
          "text": [
            "[0. 1. 2. 3. 4. 5. 6. 7. 8. 9.]\n"
          ]
        }
      ]
    },
    {
      "cell_type": "markdown",
      "source": [
        "**26. How to sum a small array faster than np.sum?**"
      ],
      "metadata": {
        "id": "39FO14W4K-0z"
      }
    },
    {
      "cell_type": "code",
      "source": [
        "F = np.random.random(10)\n",
        "np.add.reduce(F)"
      ],
      "metadata": {
        "colab": {
          "base_uri": "https://localhost:8080/"
        },
        "id": "O9xyJOxOLAq1",
        "outputId": "1b65ffb1-7f14-4135-cbba-d3a522570278"
      },
      "execution_count": null,
      "outputs": [
        {
          "output_type": "execute_result",
          "data": {
            "text/plain": [
              "2.7603373435887115"
            ]
          },
          "metadata": {},
          "execution_count": 37
        }
      ]
    },
    {
      "cell_type": "markdown",
      "source": [
        "**27. Consider two random array A and B, check if they are equal**"
      ],
      "metadata": {
        "id": "AA4LjafDLaaN"
      }
    },
    {
      "cell_type": "code",
      "source": [
        "A = np.random.randint(2,3,5)\n",
        "B = np.random.randint(2,3,5)\n",
        "\n",
        "equal = np.array_equal(A,B)\n",
        "print(equal)"
      ],
      "metadata": {
        "colab": {
          "base_uri": "https://localhost:8080/"
        },
        "id": "bAkL7tztLaoa",
        "outputId": "9fcf8949-d231-46e6-f36e-0c8570e7f2b2"
      },
      "execution_count": null,
      "outputs": [
        {
          "output_type": "stream",
          "name": "stdout",
          "text": [
            "True\n"
          ]
        }
      ]
    },
    {
      "cell_type": "markdown",
      "source": [
        "**28. Make an array immutable (read-only)**"
      ],
      "metadata": {
        "id": "knKjnYurMLiG"
      }
    },
    {
      "cell_type": "code",
      "source": [
        "Z = np.zeros(10)\n",
        "Z.flags.writeable = False\n",
        "Z[0] = 1    #assignment destination is read-only"
      ],
      "metadata": {
        "id": "ZCmV8bSfMLwl"
      },
      "execution_count": null,
      "outputs": []
    },
    {
      "cell_type": "markdown",
      "source": [
        "**29. Consider a random 10x2 matrix representing cartesian coordinates, convert them to polar coordinates**"
      ],
      "metadata": {
        "id": "N5xDV9HHMhh0"
      }
    },
    {
      "cell_type": "code",
      "source": [
        "Z = np.random.random((10,2))\n",
        "X,Y = Z[:,0], Z[:,1]\n",
        "R = np.sqrt(X**2+Y**2)\n",
        "T = np.arctan2(Y,X)\n",
        "print(R)\n",
        "print(T)"
      ],
      "metadata": {
        "colab": {
          "base_uri": "https://localhost:8080/"
        },
        "id": "Ndvzc1XAMh0K",
        "outputId": "e1967e9b-3880-4768-85ea-435faf653142"
      },
      "execution_count": null,
      "outputs": [
        {
          "output_type": "stream",
          "name": "stdout",
          "text": [
            "[0.56571073 0.3450975  1.08988685 0.92636694 0.7963969  0.85016947\n",
            " 0.68498748 1.15109374 0.73984221 1.15227768]\n",
            "[1.47370825 0.84187125 0.43722254 0.27105104 1.25576479 1.41403762\n",
            " 0.35009431 0.65186911 0.95977493 1.03361065]\n"
          ]
        }
      ]
    },
    {
      "cell_type": "markdown",
      "source": [
        "**30. Given two arrays, X and Y, construct the Cauchy matrix C (Cij =1/(xi - yj))**"
      ],
      "metadata": {
        "id": "OomrmsxpOW7U"
      }
    },
    {
      "cell_type": "code",
      "source": [
        "X = np.arange(8)\n",
        "Y = X + 0.5\n",
        "C = 1.0 / np.subtract.outer(X, Y)\n",
        "print(np.linalg.det(C))"
      ],
      "metadata": {
        "id": "Nrrw_FrSOXJ4"
      },
      "execution_count": null,
      "outputs": []
    },
    {
      "cell_type": "markdown",
      "source": [
        "**31. How to print all the values of an array?**"
      ],
      "metadata": {
        "id": "vaTlNlDRQPtM"
      }
    },
    {
      "cell_type": "code",
      "source": [
        "np.set_printoptions(threshold=float(\"inf\"))\n",
        "Z = np.zeros((15,15))\n",
        "print(Z)"
      ],
      "metadata": {
        "colab": {
          "base_uri": "https://localhost:8080/"
        },
        "id": "4D6xhqa1QP6O",
        "outputId": "ef870329-3926-49c3-accf-1340b4d10a4a"
      },
      "execution_count": null,
      "outputs": [
        {
          "output_type": "stream",
          "name": "stdout",
          "text": [
            "[[0. 0. 0. 0. 0. 0. 0. 0. 0. 0. 0. 0. 0. 0. 0.]\n",
            " [0. 0. 0. 0. 0. 0. 0. 0. 0. 0. 0. 0. 0. 0. 0.]\n",
            " [0. 0. 0. 0. 0. 0. 0. 0. 0. 0. 0. 0. 0. 0. 0.]\n",
            " [0. 0. 0. 0. 0. 0. 0. 0. 0. 0. 0. 0. 0. 0. 0.]\n",
            " [0. 0. 0. 0. 0. 0. 0. 0. 0. 0. 0. 0. 0. 0. 0.]\n",
            " [0. 0. 0. 0. 0. 0. 0. 0. 0. 0. 0. 0. 0. 0. 0.]\n",
            " [0. 0. 0. 0. 0. 0. 0. 0. 0. 0. 0. 0. 0. 0. 0.]\n",
            " [0. 0. 0. 0. 0. 0. 0. 0. 0. 0. 0. 0. 0. 0. 0.]\n",
            " [0. 0. 0. 0. 0. 0. 0. 0. 0. 0. 0. 0. 0. 0. 0.]\n",
            " [0. 0. 0. 0. 0. 0. 0. 0. 0. 0. 0. 0. 0. 0. 0.]\n",
            " [0. 0. 0. 0. 0. 0. 0. 0. 0. 0. 0. 0. 0. 0. 0.]\n",
            " [0. 0. 0. 0. 0. 0. 0. 0. 0. 0. 0. 0. 0. 0. 0.]\n",
            " [0. 0. 0. 0. 0. 0. 0. 0. 0. 0. 0. 0. 0. 0. 0.]\n",
            " [0. 0. 0. 0. 0. 0. 0. 0. 0. 0. 0. 0. 0. 0. 0.]\n",
            " [0. 0. 0. 0. 0. 0. 0. 0. 0. 0. 0. 0. 0. 0. 0.]]\n"
          ]
        }
      ]
    },
    {
      "cell_type": "markdown",
      "source": [
        "**32. Consider a random vector with shape (100,2) representing coordinates, find point by point distances**"
      ],
      "metadata": {
        "id": "1JDF2ksDREpP"
      }
    },
    {
      "cell_type": "code",
      "source": [
        "Z = np.random.random((5,2))\n",
        "X,Y = np.atleast_2d(Z[:,0], Z[:,1])\n",
        "D = np.sqrt( (X-X.T)**2 + (Y-Y.T)**2)\n",
        "print(D)\n",
        "\n",
        "# Much faster with scipy\n",
        "import scipy\n",
        "# Thanks Gavin Heverly-Coulson (#issue 1)\n",
        "import scipy.spatial\n",
        "\n",
        "Z = np.random.random((5,2))\n",
        "D = scipy.spatial.distance.cdist(Z,Z)\n",
        "print(D)"
      ],
      "metadata": {
        "colab": {
          "base_uri": "https://localhost:8080/"
        },
        "id": "nZk4tu02RE3w",
        "outputId": "0aaed64d-89e9-419f-bfe8-3c339bd11444"
      },
      "execution_count": null,
      "outputs": [
        {
          "output_type": "stream",
          "name": "stdout",
          "text": [
            "[[0.         0.49940161 0.55642901 0.64377104 0.49261076]\n",
            " [0.49940161 0.         0.69090197 0.19092527 0.71600872]\n",
            " [0.55642901 0.69090197 0.         0.88120934 0.11778268]\n",
            " [0.64377104 0.19092527 0.88120934 0.         0.90653368]\n",
            " [0.49261076 0.71600872 0.11778268 0.90653368 0.        ]]\n",
            "[[0.         0.35638861 0.8928077  0.48848129 0.45982193]\n",
            " [0.35638861 0.         0.85518719 0.13978584 0.15171117]\n",
            " [0.8928077  0.85518719 0.         0.92954908 0.74609909]\n",
            " [0.48848129 0.13978584 0.92954908 0.         0.1834511 ]\n",
            " [0.45982193 0.15171117 0.74609909 0.1834511  0.        ]]\n"
          ]
        }
      ]
    },
    {
      "cell_type": "markdown",
      "source": [
        "**33. How to convert a float (32 bits) array into an integer (32 bits) in place?**"
      ],
      "metadata": {
        "id": "W4fuDQexR1Yb"
      }
    },
    {
      "cell_type": "code",
      "source": [
        "F = (np.random.rand(10)*100).astype(np.float32)\n",
        "A = F.view(np.int32)\n",
        "A[:] = F\n",
        "print(A)"
      ],
      "metadata": {
        "colab": {
          "base_uri": "https://localhost:8080/"
        },
        "id": "VYM1_8mER1l7",
        "outputId": "d80f1da4-a7be-4b8b-d58c-882e7ded8726"
      },
      "execution_count": null,
      "outputs": [
        {
          "output_type": "stream",
          "name": "stdout",
          "text": [
            "[68 26 63 23 26 28 82 29 59  0]\n"
          ]
        }
      ]
    },
    {
      "cell_type": "markdown",
      "source": [
        "**34. What is the equivalent of enumerate for numpy arrays?**"
      ],
      "metadata": {
        "id": "RKhHJ_LJSPC0"
      }
    },
    {
      "cell_type": "code",
      "source": [
        "Z = np.arange(9).reshape(3,3)\n",
        "for index, value in np.ndenumerate(Z):\n",
        "    print(index, value)\n",
        "for index in np.ndindex(Z.shape):\n",
        "    print(index, Z[index])"
      ],
      "metadata": {
        "colab": {
          "base_uri": "https://localhost:8080/"
        },
        "id": "tpDlPwaxSPRc",
        "outputId": "31a05254-9ed7-46dd-8347-878d45022402"
      },
      "execution_count": null,
      "outputs": [
        {
          "output_type": "stream",
          "name": "stdout",
          "text": [
            "(0, 0) 0\n",
            "(0, 1) 1\n",
            "(0, 2) 2\n",
            "(1, 0) 3\n",
            "(1, 1) 4\n",
            "(1, 2) 5\n",
            "(2, 0) 6\n",
            "(2, 1) 7\n",
            "(2, 2) 8\n",
            "(0, 0) 0\n",
            "(0, 1) 1\n",
            "(0, 2) 2\n",
            "(1, 0) 3\n",
            "(1, 1) 4\n",
            "(1, 2) 5\n",
            "(2, 0) 6\n",
            "(2, 1) 7\n",
            "(2, 2) 8\n"
          ]
        }
      ]
    },
    {
      "cell_type": "markdown",
      "source": [
        "**35. Generate a generic 2D Gaussian-like array**"
      ],
      "metadata": {
        "id": "543yPF3BTkib"
      }
    },
    {
      "cell_type": "code",
      "source": [
        "X, Y = np.meshgrid(np.linspace(-1,1,10), np.linspace(-1,1,10))\n",
        "D = np.sqrt(X*X+Y*Y)\n",
        "sigma, mu = 1.0, 0.0\n",
        "G = np.exp(-( (D-mu)**2 / ( 2.0 * sigma**2 ) ) )\n",
        "print(G)"
      ],
      "metadata": {
        "colab": {
          "base_uri": "https://localhost:8080/"
        },
        "id": "xZcNBAxkTku4",
        "outputId": "f57d03d4-c659-4b36-bdfe-50b403c1f95c"
      },
      "execution_count": null,
      "outputs": [
        {
          "output_type": "stream",
          "name": "stdout",
          "text": [
            "[[0.36787944 0.44822088 0.51979489 0.57375342 0.60279818 0.60279818\n",
            "  0.57375342 0.51979489 0.44822088 0.36787944]\n",
            " [0.44822088 0.54610814 0.63331324 0.69905581 0.73444367 0.73444367\n",
            "  0.69905581 0.63331324 0.54610814 0.44822088]\n",
            " [0.51979489 0.63331324 0.73444367 0.81068432 0.85172308 0.85172308\n",
            "  0.81068432 0.73444367 0.63331324 0.51979489]\n",
            " [0.57375342 0.69905581 0.81068432 0.89483932 0.9401382  0.9401382\n",
            "  0.89483932 0.81068432 0.69905581 0.57375342]\n",
            " [0.60279818 0.73444367 0.85172308 0.9401382  0.98773022 0.98773022\n",
            "  0.9401382  0.85172308 0.73444367 0.60279818]\n",
            " [0.60279818 0.73444367 0.85172308 0.9401382  0.98773022 0.98773022\n",
            "  0.9401382  0.85172308 0.73444367 0.60279818]\n",
            " [0.57375342 0.69905581 0.81068432 0.89483932 0.9401382  0.9401382\n",
            "  0.89483932 0.81068432 0.69905581 0.57375342]\n",
            " [0.51979489 0.63331324 0.73444367 0.81068432 0.85172308 0.85172308\n",
            "  0.81068432 0.73444367 0.63331324 0.51979489]\n",
            " [0.44822088 0.54610814 0.63331324 0.69905581 0.73444367 0.73444367\n",
            "  0.69905581 0.63331324 0.54610814 0.44822088]\n",
            " [0.36787944 0.44822088 0.51979489 0.57375342 0.60279818 0.60279818\n",
            "  0.57375342 0.51979489 0.44822088 0.36787944]]\n"
          ]
        }
      ]
    },
    {
      "cell_type": "markdown",
      "source": [
        "**36. Subtract the mean of each row of a matrix**"
      ],
      "metadata": {
        "id": "opa0M44sT3nk"
      }
    },
    {
      "cell_type": "code",
      "source": [
        "X = np.random.rand(5, 10)\n",
        "\n",
        "# Recent versions of numpy\n",
        "Y = X - X.mean(axis=1, keepdims=True)\n",
        "\n",
        "# Older versions of numpy\n",
        "Y = X - X.mean(axis=1).reshape(-1, 1)\n",
        "\n",
        "print(Y)"
      ],
      "metadata": {
        "colab": {
          "base_uri": "https://localhost:8080/"
        },
        "id": "rJxtI_gKT31k",
        "outputId": "6365bd46-e513-447d-a639-cffc70b5252c"
      },
      "execution_count": null,
      "outputs": [
        {
          "output_type": "stream",
          "name": "stdout",
          "text": [
            "[[-0.3941308   0.30455914  0.38641689  0.02425794 -0.02054404 -0.28126934\n",
            "   0.21174278 -0.0537049   0.02152243 -0.1988501 ]\n",
            " [-0.03118089 -0.3646578   0.40704999 -0.05844858  0.09211783 -0.21816688\n",
            "   0.19871703  0.41927101  0.06525933 -0.50996104]\n",
            " [ 0.37159463 -0.13716422  0.13855093 -0.37931476  0.34178653  0.34231272\n",
            "  -0.31081111 -0.11256334 -0.39791265  0.14352127]\n",
            " [-0.03275663 -0.24465768  0.14404086 -0.35211066  0.22543277  0.05856469\n",
            "  -0.25155117  0.44874589  0.36517301 -0.36088109]\n",
            " [ 0.38638039 -0.14194451  0.0335144   0.21502091 -0.16209085 -0.28201182\n",
            "   0.20110439 -0.19395966  0.22726722 -0.28328047]]\n"
          ]
        }
      ]
    },
    {
      "cell_type": "markdown",
      "source": [
        "**37. How to sort an array by the nth column?**"
      ],
      "metadata": {
        "id": "6x01UGvJUCLv"
      }
    },
    {
      "cell_type": "code",
      "source": [
        "Z = np.random.randint(0,10,(3,3))\n",
        "print(Z)\n",
        "print(Z[Z[:,1].argsort()])"
      ],
      "metadata": {
        "colab": {
          "base_uri": "https://localhost:8080/"
        },
        "id": "x8nn47VYUCan",
        "outputId": "412600e3-03f6-4869-d6a2-9557334abcfb"
      },
      "execution_count": null,
      "outputs": [
        {
          "output_type": "stream",
          "name": "stdout",
          "text": [
            "[[2 2 2]\n",
            " [9 7 7]\n",
            " [5 1 7]]\n",
            "[[5 1 7]\n",
            " [2 2 2]\n",
            " [9 7 7]]\n"
          ]
        }
      ]
    },
    {
      "cell_type": "markdown",
      "source": [
        "**38. How to tell if a given 2D array has null columns?**"
      ],
      "metadata": {
        "id": "s8jXO5nQUMgu"
      }
    },
    {
      "cell_type": "code",
      "source": [
        "Z = np.random.randint(0,3,(3,10))\n",
        "print((~Z.any(axis=0)).any())\n",
        "\n",
        "# null : np.nan\n",
        "Z=np.array([\n",
        "    [0,1,np.nan],\n",
        "    [1,2,np.nan],\n",
        "    [4,5,np.nan]\n",
        "])\n",
        "print(np.isnan(Z).all(axis=0))"
      ],
      "metadata": {
        "colab": {
          "base_uri": "https://localhost:8080/"
        },
        "id": "1IWdd0nIUMut",
        "outputId": "ae77a631-12ae-4085-9ed7-57410ad4b4a9"
      },
      "execution_count": null,
      "outputs": [
        {
          "output_type": "stream",
          "name": "stdout",
          "text": [
            "False\n",
            "[False False  True]\n"
          ]
        }
      ]
    },
    {
      "cell_type": "markdown",
      "source": [
        "**39. Find the nearest value from a given value in an array**"
      ],
      "metadata": {
        "id": "kI73tgdwUmP6"
      }
    },
    {
      "cell_type": "code",
      "source": [
        "Z = np.random.uniform(0,1,10)\n",
        "z = 0.5\n",
        "m = Z.flat[np.abs(Z - z).argmin()]\n",
        "print(m)"
      ],
      "metadata": {
        "colab": {
          "base_uri": "https://localhost:8080/"
        },
        "id": "kxBLp0bHUmd2",
        "outputId": "bfa44084-7676-4414-b0c0-33a22672b83c"
      },
      "execution_count": null,
      "outputs": [
        {
          "output_type": "stream",
          "name": "stdout",
          "text": [
            "0.5013048062395883\n"
          ]
        }
      ]
    },
    {
      "cell_type": "markdown",
      "source": [
        "**40. Create an array class that has a name attribute**"
      ],
      "metadata": {
        "id": "ROSLe6kaU6Nj"
      }
    },
    {
      "cell_type": "code",
      "source": [
        "class NamedArray(np.ndarray):\n",
        "    def __new__(cls, array, name=\"no name\"):\n",
        "        obj = np.asarray(array).view(cls)\n",
        "        obj.name = name\n",
        "        return obj\n",
        "    def __array_finalize__(self, obj):\n",
        "        if obj is None: return\n",
        "        self.name = getattr(obj, 'name', \"no name\")\n",
        "\n",
        "Z = NamedArray(np.arange(10), \"range_10\")\n",
        "print (Z.name)"
      ],
      "metadata": {
        "colab": {
          "base_uri": "https://localhost:8080/"
        },
        "id": "JA6VlWb7U6ch",
        "outputId": "a0e4bff1-90dd-45c9-dc0a-66f312a80b0e"
      },
      "execution_count": null,
      "outputs": [
        {
          "output_type": "stream",
          "name": "stdout",
          "text": [
            "range_10\n"
          ]
        }
      ]
    },
    {
      "cell_type": "markdown",
      "source": [
        "**41. How to accumulate elements of a vector (X) to an array (F) based on an index list (I)?**"
      ],
      "metadata": {
        "id": "UX1_g7vzVO0X"
      }
    },
    {
      "cell_type": "code",
      "source": [
        "X = [1,2,3,4,5,6]\n",
        "I = [1,3,9,3,4,1]\n",
        "F = np.bincount(I,X)\n",
        "print(F)"
      ],
      "metadata": {
        "colab": {
          "base_uri": "https://localhost:8080/"
        },
        "id": "sU8Y0UoJVPA3",
        "outputId": "50558461-d1bb-4ed0-f4e8-b6af519e3b5b"
      },
      "execution_count": null,
      "outputs": [
        {
          "output_type": "stream",
          "name": "stdout",
          "text": [
            "[0. 7. 0. 6. 5. 0. 0. 0. 0. 3.]\n"
          ]
        }
      ]
    },
    {
      "cell_type": "markdown",
      "source": [
        "**42. Considering a four dimensions array, how to get sum over the last two axis at once?**"
      ],
      "metadata": {
        "id": "SVqRjVzzViyk"
      }
    },
    {
      "cell_type": "code",
      "source": [
        "A = np.random.randint(0,10,(3,4,3,4))\n",
        "\n",
        "sum = A.sum(axis=(-2,-1))\n",
        "print(sum)\n",
        "\n",
        "sum = A.reshape(A.shape[:-2] + (-1,)).sum(axis=-1)\n",
        "print(sum)"
      ],
      "metadata": {
        "colab": {
          "base_uri": "https://localhost:8080/"
        },
        "id": "M8U0n-7RVi_o",
        "outputId": "ece9aead-11f8-4830-a2d5-86c785f92dcf"
      },
      "execution_count": null,
      "outputs": [
        {
          "output_type": "stream",
          "name": "stdout",
          "text": [
            "[[66 57 47 49]\n",
            " [49 46 44 42]\n",
            " [41 43 55 60]]\n",
            "[[66 57 47 49]\n",
            " [49 46 44 42]\n",
            " [41 43 55 60]]\n"
          ]
        }
      ]
    },
    {
      "cell_type": "markdown",
      "source": [
        "**43. How to get the diagonal of a dot product?**"
      ],
      "metadata": {
        "id": "qHGkb0ccVqI5"
      }
    },
    {
      "cell_type": "code",
      "source": [
        "A = np.random.uniform(0,1,(5,5))\n",
        "B = np.random.uniform(0,1,(5,5))\n",
        "\n",
        "\n",
        "np.sum(A * B.T, axis=1)\n",
        "\n"
      ],
      "metadata": {
        "colab": {
          "base_uri": "https://localhost:8080/"
        },
        "id": "sguN_lZNVqXN",
        "outputId": "0f234c4d-567b-44b7-915e-2b5bb163c24a"
      },
      "execution_count": null,
      "outputs": [
        {
          "output_type": "execute_result",
          "data": {
            "text/plain": [
              "array([1.23834585, 0.92892745, 0.84123452, 0.92008144, 1.41551641])"
            ]
          },
          "metadata": {},
          "execution_count": 58
        }
      ]
    },
    {
      "cell_type": "markdown",
      "source": [
        "**44. Consider an array of dimension (5,5,3), how to mulitply it by an array with dimensions (5,5)?**"
      ],
      "metadata": {
        "id": "prrpsuMZV5qG"
      }
    },
    {
      "cell_type": "code",
      "source": [
        "A = np.ones((5,5,3))\n",
        "B = 2*np.ones((5,5))\n",
        "print(A * B[:,:,None])"
      ],
      "metadata": {
        "colab": {
          "base_uri": "https://localhost:8080/"
        },
        "id": "-4wdsaUxV53b",
        "outputId": "042d41f6-b17d-4958-d031-2dfa662fc741"
      },
      "execution_count": null,
      "outputs": [
        {
          "output_type": "stream",
          "name": "stdout",
          "text": [
            "[[[2. 2. 2.]\n",
            "  [2. 2. 2.]\n",
            "  [2. 2. 2.]\n",
            "  [2. 2. 2.]\n",
            "  [2. 2. 2.]]\n",
            "\n",
            " [[2. 2. 2.]\n",
            "  [2. 2. 2.]\n",
            "  [2. 2. 2.]\n",
            "  [2. 2. 2.]\n",
            "  [2. 2. 2.]]\n",
            "\n",
            " [[2. 2. 2.]\n",
            "  [2. 2. 2.]\n",
            "  [2. 2. 2.]\n",
            "  [2. 2. 2.]\n",
            "  [2. 2. 2.]]\n",
            "\n",
            " [[2. 2. 2.]\n",
            "  [2. 2. 2.]\n",
            "  [2. 2. 2.]\n",
            "  [2. 2. 2.]\n",
            "  [2. 2. 2.]]\n",
            "\n",
            " [[2. 2. 2.]\n",
            "  [2. 2. 2.]\n",
            "  [2. 2. 2.]\n",
            "  [2. 2. 2.]\n",
            "  [2. 2. 2.]]]\n"
          ]
        }
      ]
    },
    {
      "cell_type": "markdown",
      "source": [
        "**45. Given a sorted array C that corresponds to a bincount, how to produce an array A such that np.bincount(A) == C?**"
      ],
      "metadata": {
        "id": "FgSsDoHQV6F5"
      }
    },
    {
      "cell_type": "code",
      "source": [
        "C = np.bincount([1,1,2,3,4,4,6])\n",
        "A = np.repeat(np.arange(len(C)), C)\n",
        "print(A)"
      ],
      "metadata": {
        "colab": {
          "base_uri": "https://localhost:8080/"
        },
        "id": "d58sJyqdV6U3",
        "outputId": "7919d7f4-082e-4497-83f8-ec3c58a5c177"
      },
      "execution_count": null,
      "outputs": [
        {
          "output_type": "stream",
          "name": "stdout",
          "text": [
            "[1 1 2 3 4 4 6]\n"
          ]
        }
      ]
    },
    {
      "cell_type": "markdown",
      "source": [
        "**Broadcasting**"
      ],
      "metadata": {
        "id": "6h8S35W_u7YQ"
      }
    },
    {
      "cell_type": "code",
      "source": [
        "import numpy as np\n",
        "\n",
        "array1 = np.array([1,2,3,4])\n",
        "array2 = np.array([1,2,3])\n",
        "\n",
        "sum = array1 + array2\n",
        "\n",
        "print(sum)\n",
        "\n",
        "\n",
        "# this code contain broadcasting error because arrays are not in same dimensions"
      ],
      "metadata": {
        "colab": {
          "base_uri": "https://localhost:8080/",
          "height": 235
        },
        "id": "XKnv3DyIu6H1",
        "outputId": "943b4758-2bb4-42d5-b5d5-1fd2c7e0530a"
      },
      "execution_count": 2,
      "outputs": [
        {
          "output_type": "error",
          "ename": "ValueError",
          "evalue": "ignored",
          "traceback": [
            "\u001b[0;31m---------------------------------------------------------------------------\u001b[0m",
            "\u001b[0;31mValueError\u001b[0m                                Traceback (most recent call last)",
            "\u001b[0;32m<ipython-input-2-818cd505e777>\u001b[0m in \u001b[0;36m<cell line: 6>\u001b[0;34m()\u001b[0m\n\u001b[1;32m      4\u001b[0m \u001b[0marray2\u001b[0m \u001b[0;34m=\u001b[0m \u001b[0mnp\u001b[0m\u001b[0;34m.\u001b[0m\u001b[0marray\u001b[0m\u001b[0;34m(\u001b[0m\u001b[0;34m[\u001b[0m\u001b[0;36m1\u001b[0m\u001b[0;34m,\u001b[0m\u001b[0;36m2\u001b[0m\u001b[0;34m,\u001b[0m\u001b[0;36m3\u001b[0m\u001b[0;34m]\u001b[0m\u001b[0;34m)\u001b[0m\u001b[0;34m\u001b[0m\u001b[0;34m\u001b[0m\u001b[0m\n\u001b[1;32m      5\u001b[0m \u001b[0;34m\u001b[0m\u001b[0m\n\u001b[0;32m----> 6\u001b[0;31m \u001b[0msum\u001b[0m \u001b[0;34m=\u001b[0m \u001b[0marray1\u001b[0m \u001b[0;34m+\u001b[0m \u001b[0marray2\u001b[0m\u001b[0;34m\u001b[0m\u001b[0;34m\u001b[0m\u001b[0m\n\u001b[0m\u001b[1;32m      7\u001b[0m \u001b[0;34m\u001b[0m\u001b[0m\n\u001b[1;32m      8\u001b[0m \u001b[0mprint\u001b[0m\u001b[0;34m(\u001b[0m\u001b[0msum\u001b[0m\u001b[0;34m)\u001b[0m\u001b[0;34m\u001b[0m\u001b[0;34m\u001b[0m\u001b[0m\n",
            "\u001b[0;31mValueError\u001b[0m: operands could not be broadcast together with shapes (4,) (3,) "
          ]
        }
      ]
    },
    {
      "cell_type": "code",
      "source": [
        "import numpy as np\n",
        "\n",
        "arr1 = np.array([2,3])\n",
        "print('Shape of array 1 is: ', arr1.shape)\n",
        "\n",
        "arr2 = np.array([[1,2],[3,4],[5,6]])\n",
        "print('Shape of array 2 is: ', arr2.shape)\n",
        "\n",
        "sum = arr1 + arr2\n",
        "\n",
        "print(sum)\n",
        "\n",
        "\n",
        "#this code run smoothly beacuse in array 1\n",
        "#we have a shape of (2,1) so that it can expand it easily"
      ],
      "metadata": {
        "colab": {
          "base_uri": "https://localhost:8080/"
        },
        "id": "O2em1GNW1aEc",
        "outputId": "92ff50c3-6abb-4d5f-a639-bf2e78f00346"
      },
      "execution_count": 10,
      "outputs": [
        {
          "output_type": "stream",
          "name": "stdout",
          "text": [
            "Shape of array 1 is:  (2,)\n",
            "Shape of array 2 is:  (3, 2)\n",
            "[[3 5]\n",
            " [5 7]\n",
            " [7 9]]\n"
          ]
        }
      ]
    },
    {
      "cell_type": "code",
      "source": [
        "import numpy as np\n",
        "\n",
        "arr1 = np.array([[1,2],[3,4]])\n",
        "\n",
        "\n",
        "arr2 = np.array([[1,2],[3,4],[5,6]])\n",
        "print('Shape of array 2 is: ', arr2.shape)\n",
        "\n",
        "# result_shape = (max(arr1.shape[0], arr2.shape[0]), max(arr1.shape[0],arr2.shape[0]))\n",
        "# result = np.zeros(result_shape, dtype=arr1.dtype)\n",
        "\n",
        "# for i in range(result_shape[0]):\n",
        "#   for j in range(result_shape[1]):\n",
        "#     result[i, j] = arr1[i % arr1.shape[0], j % arr1.shape[1]] + arr2[i % arr2.shape[0], j % arr2.shape[1]]\n",
        "\n",
        "\n",
        "\n",
        "# print(result)\n",
        "\n",
        "\n",
        "newArr = np.array([[4,5]])\n",
        "\n",
        "arr1 = np.vstack((arr1 , newArr))\n",
        "print('Shape of array 1 is: ', arr1.shape)\n",
        "\n",
        "addition = arr1+arr2\n",
        "print(addition)"
      ],
      "metadata": {
        "colab": {
          "base_uri": "https://localhost:8080/"
        },
        "id": "QafDiSFU5vUa",
        "outputId": "328e16e2-a7a0-42f8-fdc4-626554bb984d"
      },
      "execution_count": 29,
      "outputs": [
        {
          "output_type": "stream",
          "name": "stdout",
          "text": [
            "Shape of array 2 is:  (3, 2)\n",
            "Shape of array 1 is:  (3, 2)\n",
            "[[ 2  4]\n",
            " [ 6  8]\n",
            " [ 9 11]]\n"
          ]
        }
      ]
    },
    {
      "cell_type": "code",
      "source": [
        "#result_shape[0]"
      ],
      "metadata": {
        "colab": {
          "base_uri": "https://localhost:8080/"
        },
        "id": "GoVSDqllBT_v",
        "outputId": "1b425786-467e-4f4d-c188-0674125c2f3c"
      },
      "execution_count": 22,
      "outputs": [
        {
          "output_type": "execute_result",
          "data": {
            "text/plain": [
              "3"
            ]
          },
          "metadata": {},
          "execution_count": 22
        }
      ]
    },
    {
      "cell_type": "code",
      "source": [],
      "metadata": {
        "id": "QHl93SToBYKW"
      },
      "execution_count": null,
      "outputs": []
    }
  ]
}